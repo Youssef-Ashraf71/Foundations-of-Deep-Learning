{
  "nbformat": 4,
  "nbformat_minor": 0,
  "metadata": {
    "colab": {
      "provenance": []
    },
    "kernelspec": {
      "name": "python3",
      "display_name": "Python 3"
    },
    "language_info": {
      "name": "python"
    },
    "gpuClass": "standard"
  },
  "cells": [
    {
      "cell_type": "markdown",
      "source": [
        "# Lecture 5 & 6: Pytorch and Supervised Learning\n",
        "\n",
        "## Main Learning Outcomes\n",
        "- Understanding pytorch/numpy representation and manipulating of higher-dimensional data.\n",
        "- A mathematical primer to supervised learning.\n",
        "- Multi-layer perceptron linear algebra computation.\n",
        "- Pytorch Autograd.\n",
        "\n",
        "## Pytorch Tensors\n",
        "- <font color='DarkGoldenRod'>Storage</font> of tensors (ndarrays) is always linear and contiguous.\n",
        "- Broadcast: manipulating the <font color='DarkGoldenRod'>stride</font> of the argument tensors, so operations can be done."
      ],
      "metadata": {
        "id": "eR5XX3FoGgh7"
      }
    },
    {
      "cell_type": "markdown",
      "source": [
        "# Generate Our Data points"
      ],
      "metadata": {
        "id": "NmgGAqSfSPlt"
      }
    },
    {
      "cell_type": "code",
      "execution_count": 121,
      "metadata": {
        "id": "s2b4NCcXD-n0",
        "colab": {
          "base_uri": "https://localhost:8080/"
        },
        "outputId": "1eb1da4b-78d7-42d3-fc02-b8866c1a29fe"
      },
      "outputs": [
        {
          "output_type": "stream",
          "name": "stdout",
          "text": [
            " Time = 38010.56 ms\n"
          ]
        }
      ],
      "source": [
        "from random import Random\n",
        "from math import sqrt\n",
        "from math import ceil\n",
        "from time import monotonic\n",
        "\n",
        "SEED = 10\n",
        "rand_gen=Random(SEED)\n",
        "# initalizing with seed to get the same sequence of numbers at every time we run the cell\n",
        "def generate_data(N=1000):\n",
        "    vecx,vecy=[],[]\n",
        "    for _ in range(N):\n",
        "        vecx.append(rand_gen.uniform(a=0,b=1))\n",
        "        vecy.append(rand_gen.uniform(a=0,b=1))\n",
        "    return vecx,vecy\n",
        "\n",
        "def loss(x_p,y_p,batchx,batchy):\n",
        "      return (1/len(batchx)*\n",
        "      sum([sqrt((x_i-x_p)**2+(y_i-y_p)**2) for x_i,y_i in zip(batchx,batchy)]))\n",
        "      \n",
        "\n",
        "\n",
        "datax,datay=generate_data()\n",
        "\n",
        "step=0.01\n",
        "Mesh_size=300\n",
        "# so why 300? observe that domain[-1,2] >> the len = 3 , step is 0.01 so for each 1 cell we need 100 meshes to process (100*0.01=1), finally Mesh_Size =  3*100=300 meshes\n",
        "x_mesh = [-1+ i*step for i in range(Mesh_size)]\n",
        "y_mesh = [-1+ i*step for i in range(Mesh_size)]\n",
        "start = monotonic()\n",
        "loss_mesh = [ \n",
        "    [loss(x_cur,y_cur,datax,datay) for x_cur in x_mesh] for y_cur in y_mesh\n",
        "]\n",
        "print(f\" Time = {(monotonic() - start)*1000:0.2f} ms\")  # 0.2f formatting output to be a float with 2 decimals"
      ]
    },
    {
      "cell_type": "markdown",
      "source": [
        "----------"
      ],
      "metadata": {
        "id": "EQvLoBTXVZcj"
      }
    },
    {
      "cell_type": "markdown",
      "source": [
        "--------------------"
      ],
      "metadata": {
        "id": "4lJv5MugVZ72"
      }
    },
    {
      "cell_type": "markdown",
      "source": [
        "# Pytorch Terminologies"
      ],
      "metadata": {
        "id": "MXPNuY7-ABFM"
      }
    },
    {
      "cell_type": "markdown",
      "source": [
        "In PyTorch, tensors are objects that represent multi-dimensional arrays and are similar to numpy arrays. However, PyTorch tensors are designed to work with GPUs, allowing for high-speed parallel computation. Additionally, PyTorch has automatic differentiation capabilities that can be used to calculate gradients of loss functions, which are essential for training neural networks."
      ],
      "metadata": {
        "id": "QQ8359SaYF6G"
      }
    },
    {
      "cell_type": "code",
      "source": [
        "import torch\n",
        "data_torch = torch.tensor([datax,datay])\n",
        "# You can get the tensor's shape\n",
        "print(f\"data_torch shape  {data_torch.shape }\")\n",
        "# tensor is a list of lists more accurately list of pointers or refrences \n",
        "print(f\"ptr for data_torch {data_torch.storage().data_ptr() } \")\n",
        "\n",
        "# Stride is the shift for a certain dimension to go to the next item, it is the way pytorch really mainpulate the N-dim arrays\n",
        "print(f\"Stride before Transpose { data_torch.stride(0) },{data_torch.stride(1)}\")\n",
        "data_torch = data_torch.t()\n",
        "# After Transposing we observe:\n",
        "print(f\"data_torch shape  {data_torch.shape }\")\n",
        "print(f\"Stride After Transpose { data_torch.stride(0) },{data_torch.stride(1)}\")\n",
        "print(f\"ptr for data_torch  After Transpose {data_torch.storage().data_ptr() } \")\n",
        "\n",
        "# broadcasting\n",
        "data_torch = data_torch.broadcast_to(size=(100,1000,2))\n",
        "# After broadcasting\n",
        "print(f\"data_torch shape After broadcasting  {data_torch.shape }\")\n",
        "print(f\"Stride After Transpose { data_torch.stride(0) } , {data_torch.stride(1)} , {data_torch.stride(2)}\")\n",
        "# stride of dim zero equals zero which means the same data and no change occur while transitioning \n",
        "# so its like a fake view for my data or converting my data to a higher dimension just like interstellar film representing time-space as a 4th dim with time physically"
      ],
      "metadata": {
        "colab": {
          "base_uri": "https://localhost:8080/"
        },
        "id": "fu9MJwWgmU0U",
        "outputId": "604688b4-6289-47ec-c58b-bbb04d0ed78f"
      },
      "execution_count": 122,
      "outputs": [
        {
          "output_type": "stream",
          "name": "stdout",
          "text": [
            "data_torch shape  torch.Size([2, 1000])\n",
            "ptr for data_torch 180732352 \n",
            "Stride before Transpose 1000,1\n",
            "data_torch shape  torch.Size([1000, 2])\n",
            "Stride After Transpose 1,1000\n",
            "ptr for data_torch  After Transpose 180732352 \n",
            "data_torch shape After broadcasting  torch.Size([100, 1000, 2])\n",
            "Stride After Transpose 0 , 1 , 1000\n"
          ]
        }
      ]
    },
    {
      "cell_type": "markdown",
      "source": [
        "-----------------"
      ],
      "metadata": {
        "id": "z_XSR4T2VWBu"
      }
    },
    {
      "cell_type": "markdown",
      "source": [
        "------------------\n"
      ],
      "metadata": {
        "id": "WvR64-49VXFm"
      }
    },
    {
      "cell_type": "markdown",
      "source": [
        "# Calcualting loss with vanilla python (standard)"
      ],
      "metadata": {
        "id": "uYsFvtWVvEqp"
      }
    },
    {
      "cell_type": "code",
      "source": [
        "x_p,y_p=5,5\n",
        "old_loss = loss(x_p,y_p,datax,datay)\n",
        "print(old_loss)"
      ],
      "metadata": {
        "colab": {
          "base_uri": "https://localhost:8080/"
        },
        "id": "gFRsUuvIvE4O",
        "outputId": "2f53f782-7fa8-4763-bb0f-3ebdf2ce04a2"
      },
      "execution_count": 123,
      "outputs": [
        {
          "output_type": "stream",
          "name": "stdout",
          "text": [
            "6.366434735715472\n"
          ]
        }
      ]
    },
    {
      "cell_type": "markdown",
      "source": [
        "# Calculating loss function using tensors from pytorch "
      ],
      "metadata": {
        "id": "nSZoMt9lVUnE"
      }
    },
    {
      "cell_type": "code",
      "source": [
        "import torch\n",
        "data_torch = torch.tensor([datax,datay])\n",
        "data_torch = data_torch.t()\n",
        "# print(data_torch.shape) # [1000,2]\n",
        "pnt = torch.tensor([5.,5.])\n",
        "# print(pnt.shape)  #[2]\n",
        "res = data_torch - pnt  # pnt dim was 2 but broadcast occured as dim(1) is the same and dim(0) of pnt doesn't exist \n",
        "res = res**2\n",
        "res = res.sum(dim = 1)\n",
        "# print(res.shape) # [1000]\n",
        "res = torch.sqrt(res)\n",
        "# print(res.shape) # [1000]\n",
        "res = res.sum(dim = 0)/data_torch.shape[0]\n",
        "print(res)"
      ],
      "metadata": {
        "colab": {
          "base_uri": "https://localhost:8080/"
        },
        "id": "sObmmB5jVQUu",
        "outputId": "fc1a5867-773e-422e-89b9-00b1b8af0adb"
      },
      "execution_count": 124,
      "outputs": [
        {
          "output_type": "stream",
          "name": "stdout",
          "text": [
            "tensor(6.3664)\n"
          ]
        }
      ]
    },
    {
      "cell_type": "markdown",
      "source": [
        "we got the same answer but in smaller time why ?????\n"
      ],
      "metadata": {
        "id": "lx_AF-FcoG3v"
      }
    },
    {
      "cell_type": "markdown",
      "source": [
        "Calculating loss function using tensors from PyTorch is faster than vanilla Python or using standard Python \n",
        "\n",
        "because PyTorch uses highly optimized C++ backend for numerical computations, including matrix operations and other mathematical operations. These operations are executed on GPUs or CPUs using parallel processing, which makes PyTorch much faster compared to traditional Python.\n",
        "\n",
        "\n",
        "The performance gains of PyTorch over vanilla Python or standard Python are due to the use of optimized numerical libraries and parallel processing, making it more efficient for scientific computing and machine learning applications. Therefore, when working with large amounts of data and complex mathematical operations, PyTorch can provide significant performance improvements over traditional Python."
      ],
      "metadata": {
        "id": "a563RyHpXyHT"
      }
    },
    {
      "cell_type": "markdown",
      "source": [
        "---------"
      ],
      "metadata": {
        "id": "pmJi32ECtJrY"
      }
    },
    {
      "cell_type": "markdown",
      "source": [
        "-----"
      ],
      "metadata": {
        "id": "mm-j_BgntKbI"
      }
    },
    {
      "cell_type": "markdown",
      "source": [
        "# Get familiar with Lampda function"
      ],
      "metadata": {
        "id": "oPN-XUdetLIf"
      }
    },
    {
      "cell_type": "code",
      "source": [
        "import torch\n",
        "# Define a lambda function for the loss function using PyTorch operations\n",
        "torch_loss_fn = lambda pnt, data:torch.sqrt(((pnt-data)**2).sum(dim=1)).sum(dim = 0) / data.shape[0]\n",
        "\n",
        "# Create a tensor from the data and transpose it\n",
        "torch_data = torch.tensor([datax,datay]).t()\n",
        "# Set the step size and mesh size\n",
        "step=0.01\n",
        "Mesh_size=300\n",
        "# so why 300? observe that domain[-1,2] >> the len = 3 , step is 0.01 so for each 1 cell we need 100 meshes to process (100*0.01=1), finally Mesh_Size =  3*100=300 meshes\n",
        "\n",
        "# Create a list of x and y mesh points\n",
        "x_mesh = [-1+ i*step for i in range(Mesh_size)]\n",
        "y_mesh = [-1+ i*step for i in range(Mesh_size)]\n",
        "# Get the current time\n",
        "start_time = monotonic()\n",
        "# Compute the loss for each point in the mesh\n",
        "loss_mesh = [ \n",
        "    [ torch_loss_fn(torch.tensor([x_cur,y_cur]),torch_data) for x_cur in x_mesh] for y_cur in y_mesh\n",
        "]\n",
        "# Print the time taken to compute the loss for the mesh\n",
        "print(f\" Time = {(monotonic() - start_time)*1000:0.2f} ms\")  # 0.2f formatting output to be a float with 2 decimals"
      ],
      "metadata": {
        "id": "JnGTXc6AtgNy",
        "colab": {
          "base_uri": "https://localhost:8080/"
        },
        "outputId": "455ef02d-a127-432a-c0f3-09584ff0ab4e"
      },
      "execution_count": 125,
      "outputs": [
        {
          "output_type": "stream",
          "name": "stdout",
          "text": [
            " Time = 4318.51 ms\n"
          ]
        }
      ]
    },
    {
      "cell_type": "markdown",
      "source": [
        "--------------------"
      ],
      "metadata": {
        "id": "W1sLNGS5Y16O"
      }
    },
    {
      "cell_type": "markdown",
      "source": [
        "you don't need to be familiar with this \n",
        "but understand the outline\n",
        "we can optimize in time by creating our meshes with broadcasting and some tricks to avoid using loops"
      ],
      "metadata": {
        "id": "j24OG6jAaNWO"
      }
    },
    {
      "cell_type": "code",
      "source": [
        "# further speed comparison\n",
        "torch_loss_fn_faster = lambda pnt, data:torch.sqrt(((pnt-\\\n",
        "                                            data.repeat((pnt.shape[0],1,1)).view(-1, pnt.shape[0], 2))\\\n",
        "                                            **2).\\\n",
        "                                            sum(dim=1)).sum(dim = 0) / data.shape[0]\n",
        "\n",
        "\n",
        "# Convert input data to a PyTorch tensor \n",
        "torch_data = torch.tensor([datax,datay]).t()\n",
        "# Create two tensors (x_0 and x_1) to represent a grid of points\n",
        "x_0 = torch.linspace(-1,2,300).repeat(1,300).t()     \n",
        "x_1 = torch.linspace(-1,2,300).repeat(300,1).t().reshape(-1,1)\n",
        "# Stack the two tensors horizontally to create a matrix of 2D points (pnts) \n",
        "pnts = torch.hstack((x_0,x_1))\n",
        "\n",
        "# Record the start time before evaluating the loss function\n",
        "start_time = monotonic()     \n",
        "# Evaluate the loss function for the matrix of points (pnts) and the input data (torch_data)\n",
        "res = torch_loss_fn_faster(pnts,torch_data)\n",
        "\n",
        "# Calculate the elapsed time and print it to the console\n",
        "print(f\" Time = {(monotonic() - start_time)*1000:0.2f} ms\")  # 0.2f formatting output to be a float with 2 decimals"
      ],
      "metadata": {
        "colab": {
          "base_uri": "https://localhost:8080/"
        },
        "id": "FoiLr4KOad5y",
        "outputId": "5fe71523-3409-4d48-98a8-68e209edc52d"
      },
      "execution_count": 126,
      "outputs": [
        {
          "output_type": "stream",
          "name": "stdout",
          "text": [
            " Time = 2514.66 ms\n"
          ]
        }
      ]
    },
    {
      "cell_type": "markdown",
      "source": [
        "The optimized thing between the two methods is the second method because it uses broadcasting and tensor reshaping to avoid the nested for-loops used in the first method.\n",
        "\n",
        "The first method iterates over each point in a mesh grid and calculates the loss function for that point. This results in nested for-loops, which can be slow and inefficient, especially for large data sets.\n",
        "\n",
        "In the second method, the loss function is calculated for all points in the mesh grid simultaneously using tensor operations. The repeat() function is used to create a tensor with the same shape as pnts but with each data point repeated along a new axis. Then, the view() function is used to reshape the repeated data tensor to have the same shape as pnts, so that they can be used in the loss function. This avoids the need for nested for-loops and results in a significant speedup."
      ],
      "metadata": {
        "id": "UTgVwI4FYyzX"
      }
    },
    {
      "cell_type": "markdown",
      "source": [
        "In the first method, we are iterating over each point in the mesh grid using nested for-loops, and then computing the loss function for that point. This means that for each point, we are performing the following operations:\n",
        "\n",
        "1- Subtracting the point coordinates from the data coordinates.\n",
        "\n",
        "\n",
        "2- Taking the square of the difference.\n",
        "\n",
        "\n",
        "3- Summing the squares.\n",
        "\n",
        "\n",
        "4- Taking the square root.\n",
        "\n",
        "\n",
        "5- Summing the square roots.\n",
        "\n",
        "\n",
        "This can be slow and inefficient, especially for large datasets, because Python is an interpreted language and the nested for-loops result in a large number of function calls, which can add significant overhead. Also, the operations are not performed in parallel, so the computation time increases as the number of points in the mesh grid increases."
      ],
      "metadata": {
        "id": "U7Iw45ygcMxA"
      }
    },
    {
      "cell_type": "markdown",
      "source": [
        "-------------------"
      ],
      "metadata": {
        "id": "OLpMSnbFccSL"
      }
    },
    {
      "cell_type": "markdown",
      "source": [
        "In the second method, we are using tensor operations to compute the loss function for all points in the mesh grid simultaneously. Here's how it works:\n",
        "\n",
        "1- We create two tensors: x_0 and x_1. x_0 is a tensor that contains a sequence of 300 numbers ranging from -1 to 2, repeated 300 times along the rows. x_1 is a tensor that contains the same sequence of numbers repeated 300 times along the columns, flattened to a one-dimensional tensor.\n",
        "\n",
        "\n",
        "2- We concatenate x_0 and x_1 along the columns to create a tensor pnts of shape (90000, 2), which contains all the points in the mesh grid.\n",
        "\n",
        "\n",
        "3- We use broadcasting and tensor reshaping to compute the loss function for all points in the mesh grid simultaneously. Specifically, we use the repeat() function to create a tensor data_repeat of shape (90000, 4),\n",
        "\n",
        " which contains each data point repeated 90000 times along a new axis. Then we use the view() function to reshape data_repeat to have the same shape as pnts. This allows us to subtract each point in pnts from each data point, take the square of the difference, and sum the squares, all in one step. Finally, we take the square root of the sum, and take the mean of the square roots to get the loss value.\n",
        "\n",
        "\n",
        "By using tensor operations, we avoid the nested for-loops used in the first method, and perform all the computations in parallel, which significantly reduces the computation time. In addition, PyTorch uses highly optimized C++ backend for numerical computations, including matrix operations and other mathematical operations, which further speeds up the computation."
      ],
      "metadata": {
        "id": "yIhtsWmXcOps"
      }
    },
    {
      "cell_type": "markdown",
      "source": [
        "------------------------"
      ],
      "metadata": {
        "id": "njnc7m41Yz8i"
      }
    },
    {
      "cell_type": "markdown",
      "source": [
        "here we passed our tensors to our GPU \n",
        "and obviously it is faster than loops & broadcasting"
      ],
      "metadata": {
        "id": "FWwsGqnhgGkJ"
      }
    },
    {
      "cell_type": "code",
      "source": [
        "# further speed comparison\n",
        "torch_loss_fn_faster = lambda pnt, data:torch.sqrt(((pnt-\\\n",
        "                                            data.repeat((pnt.shape[0],1,1)).view(-1, pnt.shape[0], 2))\\\n",
        "                                            **2).\\\n",
        "                                            sum(dim=1)).sum(dim = 0) / data.shape[0]\n",
        "\n",
        "# Convert input data to a PyTorch tensor and move it to the GPU\n",
        "torch_data = torch.tensor([datax,datay]).t().to(\"cuda:0\")\n",
        "# Create two tensors (x_0 and x_1) to represent a grid of points\n",
        "x_0 = torch.linspace(-1,2,300).repeat(1,300).t()     \n",
        "x_1 = torch.linspace(-1,2,300).repeat(300,1).t().reshape(-1,1)\n",
        "# Stack the two tensors horizontally to create a matrix of 2D points (pnts) and move it to the GPU\n",
        "pnts = torch.hstack((x_0,x_1)).to(\"cuda:0\")\n",
        "# Record the start time before evaluating the loss function\n",
        "start_time = monotonic()     \n",
        "# Evaluate the loss function for the matrix of points (pnts) and the input data (torch_data)\n",
        "res = torch_loss_fn_faster(pnts,torch_data)\n",
        "\n",
        "# Calculate the elapsed time and print it to the console\n",
        "print(f\" Time = {(monotonic() - start_time)*1000:0.2f} ms\")  # 0.2f formatting output to be a float with 2 decimals"
      ],
      "metadata": {
        "colab": {
          "base_uri": "https://localhost:8080/",
          "height": 356
        },
        "id": "KBDpd2N8gGxN",
        "outputId": "401e40fd-3045-4687-af01-7fe2eb623398"
      },
      "execution_count": 120,
      "outputs": [
        {
          "output_type": "error",
          "ename": "RuntimeError",
          "evalue": "ignored",
          "traceback": [
            "\u001b[0;31m---------------------------------------------------------------------------\u001b[0m",
            "\u001b[0;31mRuntimeError\u001b[0m                              Traceback (most recent call last)",
            "\u001b[0;32m<ipython-input-120-f43bccd6f4c3>\u001b[0m in \u001b[0;36m<module>\u001b[0;34m\u001b[0m\n\u001b[1;32m      6\u001b[0m \u001b[0;34m\u001b[0m\u001b[0m\n\u001b[1;32m      7\u001b[0m \u001b[0;31m# Convert input data to a PyTorch tensor and move it to the GPU\u001b[0m\u001b[0;34m\u001b[0m\u001b[0;34m\u001b[0m\u001b[0m\n\u001b[0;32m----> 8\u001b[0;31m \u001b[0mtorch_data\u001b[0m \u001b[0;34m=\u001b[0m \u001b[0mtorch\u001b[0m\u001b[0;34m.\u001b[0m\u001b[0mtensor\u001b[0m\u001b[0;34m(\u001b[0m\u001b[0;34m[\u001b[0m\u001b[0mdatax\u001b[0m\u001b[0;34m,\u001b[0m\u001b[0mdatay\u001b[0m\u001b[0;34m]\u001b[0m\u001b[0;34m)\u001b[0m\u001b[0;34m.\u001b[0m\u001b[0mt\u001b[0m\u001b[0;34m(\u001b[0m\u001b[0;34m)\u001b[0m\u001b[0;34m.\u001b[0m\u001b[0mto\u001b[0m\u001b[0;34m(\u001b[0m\u001b[0;34m\"cuda:0\"\u001b[0m\u001b[0;34m)\u001b[0m\u001b[0;34m\u001b[0m\u001b[0;34m\u001b[0m\u001b[0m\n\u001b[0m\u001b[1;32m      9\u001b[0m \u001b[0;31m# Create two tensors (x_0 and x_1) to represent a grid of points\u001b[0m\u001b[0;34m\u001b[0m\u001b[0;34m\u001b[0m\u001b[0m\n\u001b[1;32m     10\u001b[0m \u001b[0mx_0\u001b[0m \u001b[0;34m=\u001b[0m \u001b[0mtorch\u001b[0m\u001b[0;34m.\u001b[0m\u001b[0mlinspace\u001b[0m\u001b[0;34m(\u001b[0m\u001b[0;34m-\u001b[0m\u001b[0;36m1\u001b[0m\u001b[0;34m,\u001b[0m\u001b[0;36m2\u001b[0m\u001b[0;34m,\u001b[0m\u001b[0;36m300\u001b[0m\u001b[0;34m)\u001b[0m\u001b[0;34m.\u001b[0m\u001b[0mrepeat\u001b[0m\u001b[0;34m(\u001b[0m\u001b[0;36m1\u001b[0m\u001b[0;34m,\u001b[0m\u001b[0;36m300\u001b[0m\u001b[0;34m)\u001b[0m\u001b[0;34m.\u001b[0m\u001b[0mt\u001b[0m\u001b[0;34m(\u001b[0m\u001b[0;34m)\u001b[0m\u001b[0;34m\u001b[0m\u001b[0;34m\u001b[0m\u001b[0m\n",
            "\u001b[0;32m/usr/local/lib/python3.9/dist-packages/torch/cuda/__init__.py\u001b[0m in \u001b[0;36m_lazy_init\u001b[0;34m()\u001b[0m\n\u001b[1;32m    227\u001b[0m         \u001b[0;32mif\u001b[0m \u001b[0;34m'CUDA_MODULE_LOADING'\u001b[0m \u001b[0;32mnot\u001b[0m \u001b[0;32min\u001b[0m \u001b[0mos\u001b[0m\u001b[0;34m.\u001b[0m\u001b[0menviron\u001b[0m\u001b[0;34m:\u001b[0m\u001b[0;34m\u001b[0m\u001b[0;34m\u001b[0m\u001b[0m\n\u001b[1;32m    228\u001b[0m             \u001b[0mos\u001b[0m\u001b[0;34m.\u001b[0m\u001b[0menviron\u001b[0m\u001b[0;34m[\u001b[0m\u001b[0;34m'CUDA_MODULE_LOADING'\u001b[0m\u001b[0;34m]\u001b[0m \u001b[0;34m=\u001b[0m \u001b[0;34m'LAZY'\u001b[0m\u001b[0;34m\u001b[0m\u001b[0;34m\u001b[0m\u001b[0m\n\u001b[0;32m--> 229\u001b[0;31m         \u001b[0mtorch\u001b[0m\u001b[0;34m.\u001b[0m\u001b[0m_C\u001b[0m\u001b[0;34m.\u001b[0m\u001b[0m_cuda_init\u001b[0m\u001b[0;34m(\u001b[0m\u001b[0;34m)\u001b[0m\u001b[0;34m\u001b[0m\u001b[0;34m\u001b[0m\u001b[0m\n\u001b[0m\u001b[1;32m    230\u001b[0m         \u001b[0;31m# Some of the queued calls may reentrantly call _lazy_init();\u001b[0m\u001b[0;34m\u001b[0m\u001b[0;34m\u001b[0m\u001b[0m\n\u001b[1;32m    231\u001b[0m         \u001b[0;31m# we need to just return without initializing in that case.\u001b[0m\u001b[0;34m\u001b[0m\u001b[0;34m\u001b[0m\u001b[0m\n",
            "\u001b[0;31mRuntimeError\u001b[0m: No CUDA GPUs are available"
          ]
        }
      ]
    },
    {
      "cell_type": "markdown",
      "source": [
        "The main difference between method 2 and this method is that this method uses GPU acceleration to perform the calculations. The to(\"cuda:0\") method is used to move the data and calculations to the GPU, which is designed to handle matrix operations much more efficiently than the CPU.\n",
        "\n",
        "In method 2, the calculations were still performed on the CPU. By using a GPU, the calculations can be performed in parallel, which can provide a significant speedup for certain types of operations, such as matrix multiplication.\n",
        "\n",
        "However, it's important to note that not all operations can be accelerated on a GPU, and the speedup will depend on the size of the data and the specific operation being performed. Additionally, moving data back and forth between the CPU and GPU can also introduce overhead and affect performance."
      ],
      "metadata": {
        "id": "iVvIpPBOc9e-"
      }
    },
    {
      "cell_type": "markdown",
      "source": [
        "--------------"
      ],
      "metadata": {
        "id": "Ggz-QX8hR3hJ"
      }
    },
    {
      "cell_type": "markdown",
      "source": [
        "-----------------"
      ],
      "metadata": {
        "id": "JRldjyRcR4DM"
      }
    },
    {
      "cell_type": "markdown",
      "source": [
        "-----------------------------"
      ],
      "metadata": {
        "id": "7NdjZkv1d7VK"
      }
    },
    {
      "cell_type": "markdown",
      "source": [
        "# Lecture 6: Supervised Learning\n"
      ],
      "metadata": {
        "id": "3C2EYXd1d9ly"
      }
    },
    {
      "cell_type": "markdown",
      "source": [
        "Definition:\n",
        "\n",
        "Supervised learning is a type of machine learning where an algorithm learns to map inputs to outputs based on labeled examples provided in a training dataset. In supervised learning, the training dataset consists of a set of input-output pairs, where each input is a feature vector and each output is a corresponding target label. The goal of supervised learning is to learn a function that can generalize to new input data and accurately predict the output label.\n",
        "\n",
        "Supervised learning can be further divided into two subcategories: regression and classification. In regression, the target label is a continuous numerical value, while in classification, the target label is a categorical value or class. Some common applications of supervised learning include image classification, speech recognition, natural language processing, and fraud detection.\n",
        "\n",
        "The learning process in supervised learning involves feeding the input data to the algorithm, which generates a predicted output based on the learned function. The predicted output is then compared to the true output from the training dataset, and the difference between them is measured using a loss function. The algorithm adjusts its parameters to minimize the loss, in a process called optimization. Once the algorithm has learned the optimal parameters, it can be used to predict the output for new input data.\n",
        "\n",
        "Supervised learning is a powerful tool in machine learning, and it has been used to achieve state-of-the-art performance in many domains. However, it requires a large amount of labeled training data, and the quality of the output depends heavily on the quality and representativeness of the training data."
      ],
      "metadata": {
        "id": "kcG0fLGCTgkT"
      }
    },
    {
      "cell_type": "markdown",
      "source": [
        "------------------"
      ],
      "metadata": {
        "id": "EqEb9FXhTnhf"
      }
    },
    {
      "cell_type": "markdown",
      "source": [
        "## Problem Statement\n",
        "Given the <font color='DarkGoldenRod'>two-moon dataset</font>, build a classifier capable of catogarizing **unseen** examples as either belonging to one of the moons."
      ],
      "metadata": {
        "id": "eNmhL06-0n-N"
      }
    },
    {
      "cell_type": "markdown",
      "source": [
        "## Some harmless :) mathematical abstraction\n",
        "\n",
        "*   A neural network can be abstracted as a program that numerically evaluates a mathematical function. The mathematical function <font color='DarkGoldenRod'>predict()</font> is defined by:\n",
        "    *   An input: $X \\in \\mathbb{R}^{N}$,\n",
        "    *   An output: $\\hat{Y} \\in \\mathbb{R}^{N}$, and\n",
        "    *   A set of learnable weights: {$w_0, w_1, w_2, ..., w_k$}\n",
        "*   In **unspervised learning** training setup, we are given\n",
        "    *   A training dataset $\\mathbb{D}$: A set of examples {$(X_0, Y_0), (X_1, Y_1), ..., (X_{N-1}, Y_{N-1})$}\n",
        "    *  A loss function $\\mathbb{C}$: A differentiable function with a scalar output *loss* and $Y$ and $\\hat{Y}$ as inputs. Its output is often proportioned to the discrepancy between the network output and the target output.\n",
        "\n",
        "\n",
        "<p $K_1 = \\{s_1\\}, K_2 = \\{s_2, s_3, s_4\\}$>"
      ],
      "metadata": {
        "id": "vK89pc3c0p6h"
      }
    },
    {
      "cell_type": "markdown",
      "source": [
        "In supervised learning, a model learns to make predictions by adjusting its internal parameters, known as weights. These weights are used to transform the input data into an output prediction. However, in many cases, the output prediction is not solely determined by the input data, and an additional constant term (known as bias) is needed to shift the prediction.\n",
        "\n",
        "The bias term is added to the weighted sum of the inputs to shift the activation function, which allows the model to capture more complex relationships between the input and output. Without the bias term, the model might not be able to learn the optimal prediction function, especially if the data is not centered around zero.\n",
        "\n",
        "In summary, the bias term in supervised learning is an additional parameter that allows a model to shift the prediction function, making it more flexible and able to fit a wider range of data."
      ],
      "metadata": {
        "id": "rBr3dRUu6Kew"
      }
    },
    {
      "cell_type": "markdown",
      "source": [
        "-----------------------"
      ],
      "metadata": {
        "id": "1EylmMzX7VDB"
      }
    },
    {
      "cell_type": "markdown",
      "source": [
        "As our problem contain more than a class for dataset we use softmex in processing the output\n",
        "\n",
        "The Softmax function exponentiates the input vector to convert it into a probability distribution. The exponentiation ensures that the output values are positive and can be interpreted as probabilities.\n",
        "\n",
        "To understand why exponentiation is used in the Softmax function, consider the input vector x = [a, b, c]. The Softmax function calculates the probability of each class based on the input vector x. The probability of class i is given by:\n",
        "\n",
        "\n",
        " $y_i = \\frac{e^{x_i}}{\\sum_{j} e^{x_j}}$\n",
        "\n",
        "where K is the number of classes.\n",
        "\n",
        "The Softmax function exponentiates each element of the input vector, which ensures that the output values are positive. The sum of the exponentiated values in the denominator normalizes the output vector such that it sums up to 1 and can be interpreted as a probability distribution.\n",
        "\n",
        "Exponentiation is a monotonic function, which means that increasing the value of an input element also increases the corresponding output element. This property is useful in classification tasks, where we want to increase the output probability of the correct class and decrease the output probabilities of incorrect classes.\n",
        "\n",
        "In summary, the Softmax function exponentiates the input vector to ensure that the output values are positive and can be interpreted as probabilities. Exponentiation is a monotonic function that increases the output probabilities for higher input values, which is useful in classification tasks."
      ],
      "metadata": {
        "id": "mpPqkdUg7W7B"
      }
    },
    {
      "cell_type": "markdown",
      "source": [
        "-----------"
      ],
      "metadata": {
        "id": "G9wnqp9MTgWM"
      }
    },
    {
      "cell_type": "markdown",
      "source": [
        "## Building the model\n",
        "Let's quickly explain how we will make our model:\n",
        "* We have $x_0, x_1$ as parameters to the specific point, we want to calculate the weights for first node $a_0$: $w_{0, 0}, w_{0, 1}$ and bias $b$ for those paramaters.\n",
        "* So our input for $a_0$ is $a_0 = w_{0,0} * x_0 + w_{0, 1} * x_1 + b_0$\n",
        "* For second node $a_1$, we also have weights $w_{1, 0}, w_{1, 1}$ and bias $b_1$\n",
        "* So our input for $a_1$ is $a_1 = w_{1,0} * x_0 + w_{1, 1} * x_1 + b_1$\n",
        "* Let's put our $a_0, a_1, x_0, x_1, w_{0,0}, w_{0, 1}, w_{1, 0}, w{1, 1}$ to a matrix:\n",
        "<br><br>\n",
        "$$\n",
        "a = \\begin{bmatrix}\n",
        "a_0 & a_1 \\\\\n",
        "\\end{bmatrix} \\;\\;\n",
        "x = \\begin{bmatrix}\n",
        "x_0 & x_1 \\\\\n",
        "\\end{bmatrix}\\\\ \\;\\;\n",
        "b = \\begin{bmatrix}\n",
        "b_0 & b_1 \\\\\n",
        "\\end{bmatrix} \\\\\n",
        "w = \\begin{bmatrix}\n",
        "w_{0, 0} & w_{0, 1} \\\\\n",
        "w_{1, 0} & w_{1, 1} \\\\\n",
        "\\end{bmatrix}\\\\\n",
        "a = x . w^T + b\n",
        "$$\n",
        "* We will then apply $softmax$ for $a0, a1$:\n",
        "$$softmax(a_0) = \\frac{e^{a_0}}{e^{a_0} + e^{a_1}}, \\;\\; softmax(a_1) = \\frac{e^{a_1}}{e^{a_0} + e^{a_1}}$$\n",
        "* We will calculate the loss using cross entropy loss\n",
        "$$L = -\\sum_{C=0}^{C}y*log(\\hat{y})\\\\\n",
        "y → True\\;label\\\\\n",
        "\\hat{y} \\rightarrow Estimate\\;output$$\n",
        "where c is the number of classes"
      ],
      "metadata": {
        "id": "6W1_Jp-QTc-U"
      }
    },
    {
      "cell_type": "markdown",
      "source": [
        "---------------------------"
      ],
      "metadata": {
        "id": "zA1lsuf6YBLV"
      }
    },
    {
      "cell_type": "markdown",
      "source": [
        "# Generate Data"
      ],
      "metadata": {
        "id": "6kTzHt_Ce7qp"
      }
    },
    {
      "cell_type": "code",
      "source": [
        "from sklearn.datasets import make_moons\n",
        "from math import floor\n",
        "N = 1000  # number of samples\n",
        "NOISE = 0.1  # standard deviation of Gaussian noise added to the data\n",
        "Train_Percent = 0.8  # percentage of data used for training\n",
        "\n",
        "# generate moons dataset with N samples, adding some Gaussian noise, and shuffle the data\n",
        "x,y = make_moons(n_samples = N , shuffle = True, noise= NOISE, random_state = 5) \n",
        "\n",
        "# print(x)\n",
        "# print(y)\n",
        "\n",
        "# split data into training and validation sets using Train_Percent\n",
        "# the first floor(Train_Percent*N) samples are used for training, the rest for validation\n",
        "x_train , y_train = x[:floor(Train_Percent*N), : ] , y[:floor(Train_Percent*N)]\n",
        "x_valid , y_valid = x[floor(Train_Percent*N):, : ] , y[floor(Train_Percent*N):]\n",
        "# print(x_train.shape) >> (800, 2) "
      ],
      "metadata": {
        "id": "-1B2zT4Ae-Yn"
      },
      "execution_count": 127,
      "outputs": []
    },
    {
      "cell_type": "markdown",
      "source": [
        "The make_moons function generates a tuple of two Numpy arrays: x and y. The x array has the coordinates of each point, while the y array indicates which of the two clusters the point belongs to (either 0 or 1)."
      ],
      "metadata": {
        "id": "oD5a_PX3K7xb"
      }
    },
    {
      "cell_type": "markdown",
      "source": [
        "In this code, N represents the total number of samples to be generated in the dataset, NOISE represents the amount of Gaussian noise added to the data to make it more realistic, and Train_Percent is the percentage of the dataset that is used for training. The make_moons function generates N samples with two features (i.e., a 2D dataset), and adds Gaussian noise with standard deviation NOISE to the data. The shuffle=True argument shuffles the data randomly, and random_state=5 sets the random seed for reproducibility."
      ],
      "metadata": {
        "id": "-WUTdjBQLULr"
      }
    },
    {
      "cell_type": "markdown",
      "source": [
        "x_train , y_train = x[:floor(Train_Percent*N), : ] , y[:floor(Train_Percent*N)]\n",
        "This line slices the x and y arrays to create the training set. The : before floor(Train_Percent*N) means that we want to select all rows up to the row specified by floor(Train_Percent*N) (exclusive). The : after the comma means that we want to select all columns. So x[:floor(Train_Percent*N), : ] selects the first floor(Train_Percent*N) rows and all columns of x. Similarly, y[:floor(Train_Percent*N)] selects the first floor(Train_Percent*N) elements of y.\n",
        "\n",
        "x_valid , y_valid = x[floor(Train_Percent*N):, : ] , y[floor(Train_Percent*N):]"
      ],
      "metadata": {
        "id": "TzjlfE7QNNEA"
      }
    },
    {
      "cell_type": "markdown",
      "source": [
        "----------------"
      ],
      "metadata": {
        "id": "X-yuRvBnX_mR"
      }
    },
    {
      "cell_type": "markdown",
      "source": [
        "# Visualize Data"
      ],
      "metadata": {
        "id": "D2-rQD0F_TW-"
      }
    },
    {
      "cell_type": "code",
      "source": [
        "from matplotlib.pyplot import figure\n",
        "import numpy as np\n",
        "# create a new figure\n",
        "fig = figure( figsize =(10,10))\n",
        "# add a subplot to the figure\n",
        "ax = fig.add_subplot(1,1,1)\n",
        "# get indices of training data points for class 1 and class 0\n",
        "train_one_indices = np.argwhere(y_train == 1)\n",
        "train_zero_indices = np.argwhere(y_train == 0)\n",
        "# plot the training data points for class 1 and class 0\n",
        "ax.plot(x_train[train_one_indices, 0],x_train[train_one_indices,1],\"k.\")\n",
        "ax.plot(x_train[train_zero_indices, 0],x_train[train_zero_indices,1],\"r.\")\n",
        "\n",
        "# get indices of validation data points for class 1 and class 0\n",
        "valid_one_indices = np.argwhere(y_valid == 1)\n",
        "valid_zero_indices = np.argwhere(y_valid == 0)\n",
        "# plot the validation data points for class 1 and class 0\n",
        "ax.plot(x_valid[valid_one_indices,0] ,x_valid[valid_one_indices,1],\"kx\")\n",
        "ax.plot(x_valid[valid_zero_indices,0] ,x_valid[valid_zero_indices,1],\"kx\")"
      ],
      "metadata": {
        "colab": {
          "base_uri": "https://localhost:8080/",
          "height": 609
        },
        "id": "6CZOYOJE_arB",
        "outputId": "e284698b-c076-4d56-dc30-26ab10040151"
      },
      "execution_count": 128,
      "outputs": [
        {
          "output_type": "execute_result",
          "data": {
            "text/plain": [
              "[<matplotlib.lines.Line2D at 0x7fc728d98c10>]"
            ]
          },
          "metadata": {},
          "execution_count": 128
        },
        {
          "output_type": "display_data",
          "data": {
            "text/plain": [
              "<Figure size 720x720 with 1 Axes>"
            ],
            "image/png": "[encoded data removed]"
          },
          "metadata": {
            "needs_background": "light"
          }
        }
      ]
    },
    {
      "cell_type": "markdown",
      "source": [
        "The argwhere function returns the indices of the elements that satisfy the condition, which are then used to index into the training/validation data to get the data points corresponding to class 1 and class 0. The plot function is then used to plot the points with different markers for each class."
      ],
      "metadata": {
        "id": "zBg_0GqTcD50"
      }
    },
    {
      "cell_type": "markdown",
      "source": [
        "The np.argwhere() function returns the indices of elements in the input array that are non-zero or True. In this case, it returns the indices of the elements in the y_valid array that are equal to 1 and 0, respectively.\n",
        "\n",
        "So valid_one_indices is a numpy array that contains the indices of all elements in y_valid that are equal to 1, and valid_zero_indices contains the indices of all elements that are equal to 0."
      ],
      "metadata": {
        "id": "l5pauQbwgXaN"
      }
    },
    {
      "cell_type": "markdown",
      "source": [
        "-----------------------------------"
      ],
      "metadata": {
        "id": "t8zylS2eX9-M"
      }
    },
    {
      "cell_type": "markdown",
      "source": [
        "# Encode targets and move to pytorch"
      ],
      "metadata": {
        "id": "EsQ4E6WZWjyv"
      }
    },
    {
      "cell_type": "code",
      "source": [
        "import torch\n",
        "# Convert numpy arrays to PyTorch tensors\n",
        "x_train , y_train = torch.tensor(x_train) , torch.tensor(y_train)\n",
        "x_valid , y_valid = torch.tensor(x_valid) , torch.tensor(y_valid)\n",
        "# Perform one-hot encoding on the labels\n",
        "# For each 1, it returns [0,1], and for each 0, it returns [1,0]\n",
        "y_train = torch.nn.functional.one_hot(y_train, num_classes = 2)\n",
        "y_valid = torch.nn.functional.one_hot(y_valid, num_classes = 2)\n"
      ],
      "metadata": {
        "id": "ukFN0byRcdbz"
      },
      "execution_count": 129,
      "outputs": []
    },
    {
      "cell_type": "markdown",
      "source": [
        "This code block converts the training and validation data from NumPy arrays to PyTorch tensors using the torch.tensor() function.\n",
        "\n",
        "Then, it applies one-hot encoding to the target labels of both training and validation sets using PyTorch's built-in function torch.nn.functional.one_hot().\n",
        "\n",
        "One-hot encoding is a technique to represent categorical data in a numerical format, where each unique category is assigned a binary vector of 0s and 1s. In this case, there are two classes in the target labels (0 and 1), so each label is represented as a vector of size 2, where one element is 1 and the other is 0. For example, the label 0 is represented as [1, 0] and the label 1 is represented as [0, 1].\n",
        "\n",
        "The num_classes parameter in the torch.nn.functional.one_hot() function specifies the number of classes in the data, which is 2 in this case."
      ],
      "metadata": {
        "id": "YiKSnKNNwZvc"
      }
    },
    {
      "cell_type": "markdown",
      "source": [
        "# Forward Path"
      ],
      "metadata": {
        "id": "ikWi5a1kv4_N"
      }
    },
    {
      "cell_type": "code",
      "source": [
        "import torch\n",
        "# set the seed for reproducibility\n",
        "torch.manual_seed(5)\n",
        "# initialize weight matrix with random values\n",
        "w = torch.randn(size=(2,2))\n",
        "# convert the dtype of w to float64\n",
        "w = w.to(torch.float64)\n",
        "# indicate that gradients should be computed for w\n",
        "w.requires_grad=True\n",
        "# retain the gradients for w\n",
        "w.retain_grad()\n",
        "# initialize bias matrix with random values\n",
        "b = torch.randn(size=(1,2))\n",
        "# convert the dtype of b to float64\n",
        "b = b.to(torch.float64)\n",
        "# indicate that gradients should be computed for b\n",
        "b.requires_grad=True\n",
        "# retain the gradients for b\n",
        "b.retain_grad()\n"
      ],
      "metadata": {
        "id": "X2nNWM3WwblN"
      },
      "execution_count": 130,
      "outputs": []
    },
    {
      "cell_type": "code",
      "source": [
        "def predict(x):\n",
        "   # Multiply the input tensor `x` by the transposed weight tensor `w`, then add the bias tensor `b`.\n",
        "   # The result is an unnormalized score tensor `a`.\n",
        "   # The @ symbol denotes matrix multiplication\n",
        "   a = x.to(torch.float64) @ w.t() + b\n",
        "   # Apply the softmax function along the second dimension of the score tensor `a` to get the predicted probabilities.\n",
        "   # This results in a tensor of shape (batch_size, num_classes), where each row contains the predicted probabilities\n",
        "   # of a single input instance belonging to each of the two classes.\n",
        "   return torch.softmax(a,dim = 1)\n",
        "   # dim=1 as we move ---> or in columns region which represents the number of classes"
      ],
      "metadata": {
        "id": "69Cu-uOk0_4A"
      },
      "execution_count": 131,
      "outputs": []
    },
    {
      "cell_type": "code",
      "source": [
        "def loss_fn(x,y):\n",
        "       y_hat = predict(x)\n",
        "       return torch.mean(-(y*torch.log(y_hat)).sum(dim = 1))\n",
        "    # calculate the cross-entropy loss\n",
        "    # - y * log(y_hat) is element-wise multiplication and log is element-wise logarithm\n",
        "    # sum(dim=1) sums across the second dimension (the probabilities for each class)\n",
        "    # torch.mean() calculates the mean of the resulting vector"
      ],
      "metadata": {
        "id": "8VZfs4eII2m6"
      },
      "execution_count": 132,
      "outputs": []
    },
    {
      "cell_type": "code",
      "source": [
        "# For input x = [[1.,1.],[2.,2.]] and y = [[0,1],[1,0]]\n",
        "# Compute the loss using the loss_fn() function\n",
        "l = loss_fn(torch.tensor([[1.,1.],[2.,2.]]) ,y =torch.tensor([[0,1],[1,0]]))\n",
        "print(l)"
      ],
      "metadata": {
        "colab": {
          "base_uri": "https://localhost:8080/"
        },
        "id": "fyiPHYZOHvyQ",
        "outputId": "c35334e9-8678-4aa3-975e-fa6fb8bd2080"
      },
      "execution_count": 133,
      "outputs": [
        {
          "output_type": "stream",
          "name": "stdout",
          "text": [
            "tensor(2.2928, dtype=torch.float64, grad_fn=<MeanBackward0>)\n"
          ]
        }
      ]
    },
    {
      "cell_type": "markdown",
      "source": [
        "# Optimization Loop"
      ],
      "metadata": {
        "id": "Ck3KlnNgJ1tP"
      }
    },
    {
      "cell_type": "code",
      "source": [
        "EPOCHS = 1000\n",
        "DELTA = 0.1\n",
        "train_loss , valid_loss= [],[]\n",
        "for _ in range(EPOCHS):\n",
        "       # Compute the loss on the training set\n",
        "       cur_train_loss = loss_fn(x_train,y_train)\n",
        "       # Compute the gradients of the loss with respect to the learnable parameters\n",
        "       cur_train_loss.backward()\n",
        "       # memo the current training loss\n",
        "       train_loss.append(cur_train_loss.data)\n",
        "       # Compute the loss on the validation set, without computing gradients\n",
        "       with torch.no_grad():\n",
        "           cur_valid_loss = loss_fn(x_valid,y_valid)\n",
        "           # Store the current validation loss\n",
        "           valid_loss.append(cur_valid_loss.data)\n",
        "           # Update the learnable parameters using the gradient descent algorithm\n",
        "           w -= DELTA * w.grad.data\n",
        "           b -= DELTA * b.grad.data\n",
        "       # Zero out the gradients for the next iteration    \n",
        "       w.grad.zero_() # the _  for inplace \n",
        "       b.grad.zero_()    "
      ],
      "metadata": {
        "id": "9aZxHcpJJ4VB"
      },
      "execution_count": 134,
      "outputs": []
    },
    {
      "cell_type": "markdown",
      "source": [
        "# Visualization"
      ],
      "metadata": {
        "id": "qkEMOC9DLZjK"
      }
    },
    {
      "cell_type": "code",
      "source": [
        "fig = figure(figsize=(10,10))\n",
        "ax = fig.add_subplot(1,1,1)\n",
        "ax.plot(train_loss,'k')\n",
        "ax.plot(valid_loss,'r')"
      ],
      "metadata": {
        "colab": {
          "base_uri": "https://localhost:8080/",
          "height": 609
        },
        "id": "XLCiE3TnLb1M",
        "outputId": "77bcc3fe-95a4-4c32-ca45-4441e2f003fc"
      },
      "execution_count": 135,
      "outputs": [
        {
          "output_type": "execute_result",
          "data": {
            "text/plain": [
              "[<matplotlib.lines.Line2D at 0x7fc728bc1f40>]"
            ]
          },
          "metadata": {},
          "execution_count": 135
        },
        {
          "output_type": "display_data",
          "data": {
            "text/plain": [
              "<Figure size 720x720 with 1 Axes>"
            ],
            "image/png": "[encoded data removed]"
          },
          "metadata": {
            "needs_background": "light"
          }
        }
      ]
    },
    {
      "cell_type": "code",
      "source": [
        "# We will visualize the decision boundary\n",
        "# We will create a meshgrid of points and use our model to predict each function\n",
        "# in this mesh, to check how our model will perform\n",
        "# We start a block of code using with torch.no_grad() which disables gradient calculations\n",
        "# to reduce memory usage and speed up computations when we don't need gradients.\n",
        "with torch.no_grad():\n",
        "  x_0 = torch.linspace(-3, 3, 100).repeat(1, 100).t()\n",
        "  x_1 = torch.linspace(-3, 3, 100).repeat(100, 1).t().reshape(-1, 1)\n",
        "  x = torch.hstack((x_0, x_1)).to(torch.double)\n",
        "  # We create two one-dimensional tensors, x_0 and x_1, each containing 100 equally spaced values from -3 to 3.\n",
        "  # Then, we use repeat() and t() to create 2-dimensional tensors from x_0 and x_1.\n",
        "  # Finally, we use torch.hstack() to horizontally stack the two tensors into a single tensor x with shape (10000, 2).\n",
        "  # The tensor x represents a grid of 10000 points on the 2D plane.\n",
        "\n",
        "  # We convert the tensor x to a NumPy array x_plt for plotting.\n",
        "  x_plt = x.numpy()\n",
        "  # We pass the tensor x to the predict() function to get the predicted labels for each point on the mesh.\n",
        "  # Then, we use torch.argmax() with dim=1 to get the index of the predicted class for each point.\n",
        "  # The resulting tensor c_hat has shape (10000,) and contains either 0 or 1, \n",
        "  # indicating the predicted class for each point. We convert c_hat to a NumPy array c_hat_plt for plotting.\n",
        "  y_hat = predict(x)\n",
        "  c_hat = torch.argmax(y_hat, dim = 1)\n",
        "  c_hat_plt = c_hat.numpy()\n",
        "  # Overall, this block of code generates a meshgrid of points on the 2D plane \n",
        "  # and uses our model to predict the class of each point."
      ],
      "metadata": {
        "id": "x6VjnulNTCej"
      },
      "execution_count": 136,
      "outputs": []
    },
    {
      "cell_type": "markdown",
      "source": [
        "Here we are using torch.no_grad() to turn off gradient computation during this block of code. This is because we do not want to keep track of the gradients during the forward pass since we are only interested in the predictions and not the gradients.\n",
        "\n",
        "We first create a meshgrid of 100x100 points between -3 and 3 using torch.linspace. We repeat the rows and columns of the first and second dimensions respectively using repeat to create 2D tensors x_0 and x_1.\n",
        "\n",
        "Next, we reshape x_1 into a 1D tensor using reshape(-1, 1) and concatenate x_0 and x_1 along the second dimension using torch.hstack to obtain a 2D tensor x containing all the possible combinations of points in the meshgrid.\n",
        "\n",
        "We convert x to a numpy array using .numpy() and use our predict function to obtain predictions for each point in the meshgrid. We use torch.argmax to get the class index with the highest probability for each point and convert it to a numpy array c_hat_plt."
      ],
      "metadata": {
        "id": "cLOWznHAUbko"
      }
    },
    {
      "cell_type": "code",
      "source": [
        "# Plotting\n",
        "fig_prediction = figure(figsize = (15, 15))\n",
        "ax_prediction = fig_prediction.add_subplot(1, 1, 1)\n",
        "# plot the points predicted as class 0 as black dots\n",
        "ax_prediction.plot(x_plt[np.argwhere(c_hat_plt == 0), 0], x_plt[np.argwhere(c_hat_plt == 0), 1], \"k.\")\n",
        "# plot the points predicted as class 1 as red dots\n",
        "ax_prediction.plot(x_plt[np.argwhere(c_hat_plt == 1), 0], x_plt[np.argwhere(c_hat_plt == 1), 1], \"r.\")\n",
        "# plot the training points for class 0 as black circles\n",
        "ax_prediction.plot(x_train[train_zero_indices, 0], x_train[train_zero_indices, 1], \"ko\")\n",
        "# plot the training points for class 1 as red circles\n",
        "ax_prediction.plot(x_train[train_one_indices, 0], x_train[train_one_indices, 1], \"ro\")\n",
        "fig_prediction.show()"
      ],
      "metadata": {
        "colab": {
          "base_uri": "https://localhost:8080/",
          "height": 863
        },
        "id": "jAQxvYRPUU53",
        "outputId": "e32642bd-dcdd-43ef-eb24-cb003e51f6da"
      },
      "execution_count": 137,
      "outputs": [
        {
          "output_type": "display_data",
          "data": {
            "text/plain": [
              "<Figure size 1080x1080 with 1 Axes>"
            ],
            "image/png": "[encoded data removed]"
          },
          "metadata": {
            "needs_background": "light"
          }
        }
      ]
    },
    {
      "cell_type": "markdown",
      "source": [
        "Here we create a new figure with figure(figsize = (15, 15)) and add a subplot using add_subplot(1, 1, 1).\n",
        "\n",
        "We plot the points classified as 0 and 1 by our model on the subplot using plot with the color black (\"k.\") and red (\"r.\") respectively. We also plot the training points for class 0 and class 1 using the colors black (\"ko\") and red (\"ro\") respectively.\n",
        "\n",
        "Finally, we show the plot using fig_prediction.show(). This plot helps us visualize the decision boundary of our model and how well it is able to separate the two classes."
      ],
      "metadata": {
        "id": "rI5i7RjDUeHn"
      }
    }
  ]
}