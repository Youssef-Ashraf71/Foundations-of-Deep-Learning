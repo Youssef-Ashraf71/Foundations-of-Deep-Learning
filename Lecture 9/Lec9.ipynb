{
  "nbformat": 4,
  "nbformat_minor": 0,
  "metadata": {
    "colab": {
      "provenance": []
    },
    "kernelspec": {
      "name": "python3",
      "display_name": "Python 3"
    },
    "language_info": {
      "name": "python"
    }
  },
  "cells": [
    {
      "cell_type": "markdown",
      "source": [
        "## Lec9 : Graph Traversals and Computational Graphs"
      ],
      "metadata": {
        "id": "RvODsTpKN4a8"
      }
    },
    {
      "cell_type": "markdown",
      "source": [
        "------"
      ],
      "metadata": {
        "id": "GNsAmQjqODs6"
      }
    },
    {
      "cell_type": "markdown",
      "source": [
        "-----"
      ],
      "metadata": {
        "id": "Q_eKK6ofOENn"
      }
    },
    {
      "cell_type": "markdown",
      "source": [
        "# Graph Representation\n",
        "* Graph is a data structure $\\text {G = (V, E)}$: consist of $Vertices$ and $Edges$ \n",
        "* Can be either directed or undirected "
      ],
      "metadata": {
        "id": "krAEoDQVK6Zy"
      }
    },
    {
      "cell_type": "markdown",
      "source": [
        "## Types of Edges\n",
        "![image](https://github.com/Youssef-Ashraf71/Sequence-Detector/assets/83988379/3fea15c0-99b4-4931-a75c-6d4c7ade12dc)\n"
      ],
      "metadata": {
        "id": "imOGa2LJNhdD"
      }
    },
    {
      "cell_type": "markdown",
      "source": [
        "## Adjacency Matrix Vs Adjacency list \n",
        "![image](https://github.com/Youssef-Ashraf71/Sequence-Detector/assets/83988379/02359837-3e8c-42ba-b8e1-16b2a536294c)\n"
      ],
      "metadata": {
        "id": "eBOuRCRxM090"
      }
    },
    {
      "cell_type": "markdown",
      "source": [
        "## Graphs 1,2 Visualized"
      ],
      "metadata": {
        "id": "o5HxdiGANsGX"
      }
    },
    {
      "cell_type": "markdown",
      "source": [
        "![graphs](https://i.ibb.co/1JrXZXb/graphs.png)"
      ],
      "metadata": {
        "id": "iUsz-yO3NrVU"
      }
    },
    {
      "cell_type": "markdown",
      "source": [
        "--------"
      ],
      "metadata": {
        "id": "WCZkT0BELDMy"
      }
    },
    {
      "cell_type": "markdown",
      "source": [
        "## Adjacencey List Representation"
      ],
      "metadata": {
        "id": "vj5pBDz8LCYt"
      }
    },
    {
      "cell_type": "code",
      "execution_count": 29,
      "metadata": {
        "id": "FaLiRXwRKxaq"
      },
      "outputs": [],
      "source": [
        "# graph1 \n",
        "graph1_vertecies = set(list(range(8))) # list(range(8)) a list from 0 to 7 -- then casting it to set \n",
        "graph1_adj = {\n",
        "   0: [1,4],\n",
        "   1: [0,5],\n",
        "   2: [5,6],\n",
        "   3: [7],\n",
        "   4: [0],\n",
        "   5: [1,2,6],\n",
        "   6: [2,5,7],\n",
        "   7: [3,6]\n",
        "}\n",
        "graph2_vertecies = set(list(range(6)))\n",
        "graph2_adj = {\n",
        "    0: [1, 3],\n",
        "    1: [4],\n",
        "    2: [4, 5],\n",
        "    3: [1],\n",
        "    4: [3],\n",
        "    5: [5]\n",
        "}"
      ]
    },
    {
      "cell_type": "markdown",
      "source": [
        "## Matirx Representation\n",
        "In Python, a matrix representation of a graph can be created using the adjacency list representation. The adjacency list representation represents a graph as a dictionary, where each vertex is a key, and the corresponding value is a list of vertices adjacent to that vertex. To convert this adjacency list representation to a matrix representation, you can follow these steps:\n",
        "\n",
        "* Create a matrix (2D Numpy Array) (2D list) with dimensions NxN, where N is the number of vertices in the graph. Initialize all elements of the matrix to 0.\n",
        "\n",
        "* Iterate over each vertex in the adjacency list representation.\n",
        "\n",
        "* For each vertex, iterate over its adjacent vertices.\n",
        "\n",
        "* For each adjacent vertex, set the corresponding element in the matrix to 1."
      ],
      "metadata": {
        "id": "tRAIca73MkJQ"
      }
    },
    {
      "cell_type": "code",
      "source": [
        "import numpy as np\n",
        "num_vertices = len(graph1_adj)\n",
        "adj_matrix1 = np.zeros ((num_vertices,num_vertices))  # N * N as we said , np.zeros >> initialize all the matrix to zeros\n",
        "\n",
        "for vertex,childs in graph1_adj.items():\n",
        "     for child in childs :\n",
        "               adj_matrix1[int(vertex)][int(child)] = 1\n",
        "\n",
        "# printing the matrix \n",
        "print(adj_matrix1)\n",
        "\n",
        "# or you can write it manually\n",
        "adj_matrix1_old = [\n",
        "    [0, 1, 0, 0, 1, 0, 0, 0],\n",
        "    [1, 0, 0, 0, 0, 1, 0, 0],\n",
        "    [0, 0, 0, 0, 0, 1, 1, 0],\n",
        "    [0, 0, 0, 0, 0, 0, 0, 1],\n",
        "    [1, 0, 0, 0, 0, 0, 0, 0],\n",
        "    [0, 1, 1, 0, 0, 0, 1, 0],\n",
        "    [0, 0, 1, 0, 0, 1, 0, 1],\n",
        "    [0, 0, 0, 1, 0, 0, 1, 0]\n",
        "]\n",
        "# print(adj_matrix1_old)"
      ],
      "metadata": {
        "colab": {
          "base_uri": "https://localhost:8080/"
        },
        "id": "1VDbRJ3pOHl2",
        "outputId": "f86bf18e-a7c9-4d68-dd29-d9909c40817f"
      },
      "execution_count": 30,
      "outputs": [
        {
          "output_type": "stream",
          "name": "stdout",
          "text": [
            "[[0. 1. 0. 0. 1. 0. 0. 0.]\n",
            " [1. 0. 0. 0. 0. 1. 0. 0.]\n",
            " [0. 0. 0. 0. 0. 1. 1. 0.]\n",
            " [0. 0. 0. 0. 0. 0. 0. 1.]\n",
            " [1. 0. 0. 0. 0. 0. 0. 0.]\n",
            " [0. 1. 1. 0. 0. 0. 1. 0.]\n",
            " [0. 0. 1. 0. 0. 1. 0. 1.]\n",
            " [0. 0. 0. 1. 0. 0. 1. 0.]]\n"
          ]
        }
      ]
    },
    {
      "cell_type": "markdown",
      "source": [
        "# Drawing Graphs"
      ],
      "metadata": {
        "id": "D0TFlekXS9K_"
      }
    },
    {
      "cell_type": "code",
      "source": [
        "from graphviz import Digraph, Graph\n",
        "def draw_graph(vertices, edges, directed):\n",
        "\n",
        "    # Create a new Digraph\n",
        "    if directed:\n",
        "      dot = Digraph(format = 'svg')\n",
        "    else:\n",
        "      dot = Graph(format = 'svg')\n",
        "\n",
        "    # Set the direction of the edges to Top-to-Bottom\n",
        "    dot.attr(rankdir='TB')\n",
        "\n",
        "    # Add nodes to the graph\n",
        "    for node in vertices:\n",
        "        dot.node(name= str(node), label= f\"{node}\")\n",
        "    if not directed:\n",
        "      #  keep track of edges that have already been added to the graph\n",
        "      already_drawn = set()\n",
        "\n",
        "    # Add edges to the graph\n",
        "    for node, edge_list in edges.items():\n",
        "        for edge in edge_list:\n",
        "          if directed:\n",
        "            dot.edge(str(node), str(edge))\n",
        "          else:\n",
        "            #  ensure that the order of nodes in the edge does not affect the comparison of edges\n",
        "            sorted_edges = tuple(sorted([node, edge]))\n",
        "            #  If the edge has not been added, it adds the edge to the graph using the dot.edge() method \n",
        "            # and adds the tuple to the already_drawn set\n",
        "            if sorted_edges not in already_drawn:\n",
        "              already_drawn.add(sorted_edges) \n",
        "              dot.edge(str(node), str(edge))\n",
        "\n",
        "    # Render the graph to an SVG file and open it in the default viewer (optional)\n",
        "    dot.render('graph', format='svg', view=True)\n",
        "    return dot\n",
        "\n",
        "draw_graph(graph1_vertecies, graph1_adj, True)\n"
      ],
      "metadata": {
        "colab": {
          "base_uri": "https://localhost:8080/",
          "height": 560
        },
        "id": "MfZPD0tVRpvv",
        "outputId": "0318454b-7c62-47fb-e4f8-8ce1df14c229"
      },
      "execution_count": 31,
      "outputs": [
        {
          "output_type": "execute_result",
          "data": {
            "image/svg+xml": "<?xml version=\"1.0\" encoding=\"UTF-8\" standalone=\"no\"?>\n<!DOCTYPE svg PUBLIC \"-//W3C//DTD SVG 1.1//EN\"\n \"http://www.w3.org/Graphics/SVG/1.1/DTD/svg11.dtd\">\n<!-- Generated by graphviz version 2.43.0 (0)\n -->\n<!-- Title: %3 Pages: 1 -->\n<svg width=\"166pt\" height=\"404pt\"\n viewBox=\"0.00 0.00 166.00 404.00\" xmlns=\"http://www.w3.org/2000/svg\" xmlns:xlink=\"http://www.w3.org/1999/xlink\">\n<g id=\"graph0\" class=\"graph\" transform=\"scale(1 1) rotate(0) translate(4 400)\">\n<title>%3</title>\n<polygon fill=\"white\" stroke=\"transparent\" points=\"-4,4 -4,-400 162,-400 162,4 -4,4\"/>\n<!-- 0 -->\n<g id=\"node1\" class=\"node\">\n<title>0</title>\n<ellipse fill=\"none\" stroke=\"black\" cx=\"95\" cy=\"-378\" rx=\"27\" ry=\"18\"/>\n<text text-anchor=\"middle\" x=\"95\" y=\"-374.3\" font-family=\"Times,serif\" font-size=\"14.00\">0</text>\n</g>\n<!-- 1 -->\n<g id=\"node2\" class=\"node\">\n<title>1</title>\n<ellipse fill=\"none\" stroke=\"black\" cx=\"59\" cy=\"-306\" rx=\"27\" ry=\"18\"/>\n<text text-anchor=\"middle\" x=\"59\" y=\"-302.3\" font-family=\"Times,serif\" font-size=\"14.00\">1</text>\n</g>\n<!-- 0&#45;&gt;1 -->\n<g id=\"edge1\" class=\"edge\">\n<title>0&#45;&gt;1</title>\n<path fill=\"none\" stroke=\"black\" d=\"M81.73,-362.15C76.38,-353.79 70.57,-343.09 65.99,-333.34\"/>\n<polygon fill=\"black\" stroke=\"black\" points=\"69.12,-331.77 61.88,-324.04 62.71,-334.6 69.12,-331.77\"/>\n</g>\n<!-- 4 -->\n<g id=\"node5\" class=\"node\">\n<title>4</title>\n<ellipse fill=\"none\" stroke=\"black\" cx=\"131\" cy=\"-306\" rx=\"27\" ry=\"18\"/>\n<text text-anchor=\"middle\" x=\"131\" y=\"-302.3\" font-family=\"Times,serif\" font-size=\"14.00\">4</text>\n</g>\n<!-- 0&#45;&gt;4 -->\n<g id=\"edge2\" class=\"edge\">\n<title>0&#45;&gt;4</title>\n<path fill=\"none\" stroke=\"black\" d=\"M97.84,-360.05C101.44,-351.22 106.89,-340.28 112.42,-330.63\"/>\n<polygon fill=\"black\" stroke=\"black\" points=\"115.53,-332.26 117.7,-321.89 109.54,-328.64 115.53,-332.26\"/>\n</g>\n<!-- 1&#45;&gt;0 -->\n<g id=\"edge3\" class=\"edge\">\n<title>1&#45;&gt;0</title>\n<path fill=\"none\" stroke=\"black\" d=\"M72.3,-321.89C77.66,-330.28 83.48,-341 88.06,-350.75\"/>\n<polygon fill=\"black\" stroke=\"black\" points=\"84.93,-352.32 92.16,-360.05 91.33,-349.49 84.93,-352.32\"/>\n</g>\n<!-- 5 -->\n<g id=\"node6\" class=\"node\">\n<title>5</title>\n<ellipse fill=\"none\" stroke=\"black\" cx=\"59\" cy=\"-234\" rx=\"27\" ry=\"18\"/>\n<text text-anchor=\"middle\" x=\"59\" y=\"-230.3\" font-family=\"Times,serif\" font-size=\"14.00\">5</text>\n</g>\n<!-- 1&#45;&gt;5 -->\n<g id=\"edge4\" class=\"edge\">\n<title>1&#45;&gt;5</title>\n<path fill=\"none\" stroke=\"black\" d=\"M53.16,-288.41C52.3,-280.51 52.05,-270.85 52.41,-261.94\"/>\n<polygon fill=\"black\" stroke=\"black\" points=\"55.9,-262.18 53.12,-251.96 48.92,-261.68 55.9,-262.18\"/>\n</g>\n<!-- 2 -->\n<g id=\"node3\" class=\"node\">\n<title>2</title>\n<ellipse fill=\"none\" stroke=\"black\" cx=\"27\" cy=\"-90\" rx=\"27\" ry=\"18\"/>\n<text text-anchor=\"middle\" x=\"27\" y=\"-86.3\" font-family=\"Times,serif\" font-size=\"14.00\">2</text>\n</g>\n<!-- 2&#45;&gt;5 -->\n<g id=\"edge5\" class=\"edge\">\n<title>2&#45;&gt;5</title>\n<path fill=\"none\" stroke=\"black\" d=\"M35.17,-107.31C43.25,-131.41 53.8,-176.81 58.34,-205.94\"/>\n<polygon fill=\"black\" stroke=\"black\" points=\"54.88,-206.45 59.72,-215.87 61.81,-205.48 54.88,-206.45\"/>\n</g>\n<!-- 6 -->\n<g id=\"node7\" class=\"node\">\n<title>6</title>\n<ellipse fill=\"none\" stroke=\"black\" cx=\"91\" cy=\"-162\" rx=\"27\" ry=\"18\"/>\n<text text-anchor=\"middle\" x=\"91\" y=\"-158.3\" font-family=\"Times,serif\" font-size=\"14.00\">6</text>\n</g>\n<!-- 2&#45;&gt;6 -->\n<g id=\"edge6\" class=\"edge\">\n<title>2&#45;&gt;6</title>\n<path fill=\"none\" stroke=\"black\" d=\"M44.62,-104.33C54.3,-113.5 66.01,-125.93 75.35,-136.82\"/>\n<polygon fill=\"black\" stroke=\"black\" points=\"72.87,-139.32 81.96,-144.76 78.25,-134.84 72.87,-139.32\"/>\n</g>\n<!-- 3 -->\n<g id=\"node4\" class=\"node\">\n<title>3</title>\n<ellipse fill=\"none\" stroke=\"black\" cx=\"99\" cy=\"-18\" rx=\"27\" ry=\"18\"/>\n<text text-anchor=\"middle\" x=\"99\" y=\"-14.3\" font-family=\"Times,serif\" font-size=\"14.00\">3</text>\n</g>\n<!-- 7 -->\n<g id=\"node8\" class=\"node\">\n<title>7</title>\n<ellipse fill=\"none\" stroke=\"black\" cx=\"99\" cy=\"-90\" rx=\"27\" ry=\"18\"/>\n<text text-anchor=\"middle\" x=\"99\" y=\"-86.3\" font-family=\"Times,serif\" font-size=\"14.00\">7</text>\n</g>\n<!-- 3&#45;&gt;7 -->\n<g id=\"edge7\" class=\"edge\">\n<title>3&#45;&gt;7</title>\n<path fill=\"none\" stroke=\"black\" d=\"M104.88,-35.96C105.71,-43.83 105.95,-53.37 105.58,-62.19\"/>\n<polygon fill=\"black\" stroke=\"black\" points=\"102.07,-62.18 104.84,-72.41 109.06,-62.69 102.07,-62.18\"/>\n</g>\n<!-- 4&#45;&gt;0 -->\n<g id=\"edge8\" class=\"edge\">\n<title>4&#45;&gt;0</title>\n<path fill=\"none\" stroke=\"black\" d=\"M128.12,-324.04C124.51,-332.87 119.07,-343.8 113.54,-353.43\"/>\n<polygon fill=\"black\" stroke=\"black\" points=\"110.45,-351.79 108.27,-362.15 116.44,-355.4 110.45,-351.79\"/>\n</g>\n<!-- 5&#45;&gt;1 -->\n<g id=\"edge9\" class=\"edge\">\n<title>5&#45;&gt;1</title>\n<path fill=\"none\" stroke=\"black\" d=\"M64.88,-251.96C65.71,-259.83 65.95,-269.37 65.58,-278.19\"/>\n<polygon fill=\"black\" stroke=\"black\" points=\"62.07,-278.18 64.84,-288.41 69.06,-278.69 62.07,-278.18\"/>\n</g>\n<!-- 5&#45;&gt;2 -->\n<g id=\"edge10\" class=\"edge\">\n<title>5&#45;&gt;2</title>\n<path fill=\"none\" stroke=\"black\" d=\"M50.84,-216.71C42.78,-192.7 32.28,-147.53 27.71,-118.37\"/>\n<polygon fill=\"black\" stroke=\"black\" points=\"31.17,-117.84 26.31,-108.43 24.24,-118.82 31.17,-117.84\"/>\n</g>\n<!-- 5&#45;&gt;6 -->\n<g id=\"edge11\" class=\"edge\">\n<title>5&#45;&gt;6</title>\n<path fill=\"none\" stroke=\"black\" d=\"M60.99,-215.7C64.05,-207.07 68.7,-196.5 73.53,-187.1\"/>\n<polygon fill=\"black\" stroke=\"black\" points=\"76.67,-188.66 78.37,-178.2 70.52,-185.32 76.67,-188.66\"/>\n</g>\n<!-- 6&#45;&gt;2 -->\n<g id=\"edge12\" class=\"edge\">\n<title>6&#45;&gt;2</title>\n<path fill=\"none\" stroke=\"black\" d=\"M73.55,-147.83C63.81,-138.62 51.96,-126.04 42.55,-115.06\"/>\n<polygon fill=\"black\" stroke=\"black\" points=\"44.98,-112.51 35.9,-107.06 39.6,-116.98 44.98,-112.51\"/>\n</g>\n<!-- 6&#45;&gt;5 -->\n<g id=\"edge13\" class=\"edge\">\n<title>6&#45;&gt;5</title>\n<path fill=\"none\" stroke=\"black\" d=\"M89.07,-180.13C86.02,-188.77 81.34,-199.4 76.49,-208.86\"/>\n<polygon fill=\"black\" stroke=\"black\" points=\"73.32,-207.35 71.62,-217.81 79.47,-210.7 73.32,-207.35\"/>\n</g>\n<!-- 6&#45;&gt;7 -->\n<g id=\"edge14\" class=\"edge\">\n<title>6&#45;&gt;7</title>\n<path fill=\"none\" stroke=\"black\" d=\"M87.06,-144.05C87.12,-136.03 88.01,-126.26 89.43,-117.3\"/>\n<polygon fill=\"black\" stroke=\"black\" points=\"92.9,-117.78 91.33,-107.31 86.03,-116.48 92.9,-117.78\"/>\n</g>\n<!-- 7&#45;&gt;3 -->\n<g id=\"edge15\" class=\"edge\">\n<title>7&#45;&gt;3</title>\n<path fill=\"none\" stroke=\"black\" d=\"M93.16,-72.41C92.3,-64.51 92.05,-54.85 92.41,-45.94\"/>\n<polygon fill=\"black\" stroke=\"black\" points=\"95.9,-46.18 93.12,-35.96 88.92,-45.68 95.9,-46.18\"/>\n</g>\n<!-- 7&#45;&gt;6 -->\n<g id=\"edge16\" class=\"edge\">\n<title>7&#45;&gt;6</title>\n<path fill=\"none\" stroke=\"black\" d=\"M102.94,-107.96C102.88,-115.91 102,-125.58 100.6,-134.48\"/>\n<polygon fill=\"black\" stroke=\"black\" points=\"97.14,-133.94 98.74,-144.41 104.02,-135.23 97.14,-133.94\"/>\n</g>\n</g>\n</svg>\n",
            "text/plain": [
              "<graphviz.graphs.Digraph at 0x7fb1b42cbd90>"
            ]
          },
          "metadata": {},
          "execution_count": 31
        }
      ]
    },
    {
      "cell_type": "markdown",
      "source": [
        "# Graph Traversal \n",
        "It is an algorithm (program) that is given: \n",
        "* a graph: $G$ \n",
        "* a distinguished source vertex: $s$.\n",
        "\n",
        "The program ${\\color{pink} {Systematically}}$\n",
        " follows the edges of the graph so as to visit the vertices.\n",
        "\n",
        "Today, we are exploring: \n",
        "\n",
        "* $\\textbf{Breadth First Traversal}$: This systematically visits every vertex $v$ in the graph reachable from $s$, while identifying the shortest path from $s$ to $v$.\n",
        "\n",
        "* $\\textbf{Depth First Traversal}$: This systematically visits every vertex  $v$ in the graph reachable from  $s$ following the strategy: \n",
        " 1. explores edges out of the most recently discovered vertex $v$ \n",
        " 2. Once all of the edges of  $v$ have been explored, the search ${\\color{green} {backtracks}}$ to explore other edges leaving the vertex from which $v$ was discovered. \n",
        "\n",
        "* $\\textbf{Topological Sort}$: Specific only to DAGs (Directed acyclic Graphs), It visists all nodes reachable from s, so as to return a linear sorting of all its vertices such that if C contains an edge from u and v. Then it appears before in this ordering. \n",
        "\n"
      ],
      "metadata": {
        "id": "8_ohgVtfUYKf"
      }
    },
    {
      "cell_type": "markdown",
      "source": [
        "## 1. Breadth First Traversal"
      ],
      "metadata": {
        "id": "jkQh3akuW3c-"
      }
    },
    {
      "cell_type": "markdown",
      "source": [
        "With Adj List\n"
      ],
      "metadata": {
        "id": "aPDuIxwjksXP"
      }
    },
    {
      "cell_type": "code",
      "source": [
        "from collections import deque\n",
        "def bfs_adj(graph,src):\n",
        "       q = deque() \n",
        "       vis = set()\n",
        "       q.append(src)\n",
        "       while(len(q)>0): \n",
        "           cur = q.popleft()\n",
        "           if cur  not in vis:\n",
        "               vis.add(cur)\n",
        "               print(\"at node :\",cur)\n",
        "               for child in graph1_adj[cur]:\n",
        "                        q.append(child)\n",
        "                    \n",
        "     \n",
        "bfs_adj(graph1_adj,2)\n",
        "print(\"\\n\")\n",
        "draw_graph(graph1_vertecies, graph1_adj, True)"
      ],
      "metadata": {
        "colab": {
          "base_uri": "https://localhost:8080/",
          "height": 734
        },
        "id": "Zb4WWBz5W5qh",
        "outputId": "d8a31819-76a1-450a-8db1-45b889ab0349"
      },
      "execution_count": 78,
      "outputs": [
        {
          "output_type": "stream",
          "name": "stdout",
          "text": [
            "at node : 2\n",
            "at node : 5\n",
            "at node : 6\n",
            "at node : 1\n",
            "at node : 7\n",
            "at node : 0\n",
            "at node : 3\n",
            "at node : 4\n",
            "\n",
            "\n"
          ]
        },
        {
          "output_type": "execute_result",
          "data": {
            "image/svg+xml": "<?xml version=\"1.0\" encoding=\"UTF-8\" standalone=\"no\"?>\n<!DOCTYPE svg PUBLIC \"-//W3C//DTD SVG 1.1//EN\"\n \"http://www.w3.org/Graphics/SVG/1.1/DTD/svg11.dtd\">\n<!-- Generated by graphviz version 2.43.0 (0)\n -->\n<!-- Title: %3 Pages: 1 -->\n<svg width=\"166pt\" height=\"404pt\"\n viewBox=\"0.00 0.00 166.00 404.00\" xmlns=\"http://www.w3.org/2000/svg\" xmlns:xlink=\"http://www.w3.org/1999/xlink\">\n<g id=\"graph0\" class=\"graph\" transform=\"scale(1 1) rotate(0) translate(4 400)\">\n<title>%3</title>\n<polygon fill=\"white\" stroke=\"transparent\" points=\"-4,4 -4,-400 162,-400 162,4 -4,4\"/>\n<!-- 0 -->\n<g id=\"node1\" class=\"node\">\n<title>0</title>\n<ellipse fill=\"none\" stroke=\"black\" cx=\"95\" cy=\"-378\" rx=\"27\" ry=\"18\"/>\n<text text-anchor=\"middle\" x=\"95\" y=\"-374.3\" font-family=\"Times,serif\" font-size=\"14.00\">0</text>\n</g>\n<!-- 1 -->\n<g id=\"node2\" class=\"node\">\n<title>1</title>\n<ellipse fill=\"none\" stroke=\"black\" cx=\"59\" cy=\"-306\" rx=\"27\" ry=\"18\"/>\n<text text-anchor=\"middle\" x=\"59\" y=\"-302.3\" font-family=\"Times,serif\" font-size=\"14.00\">1</text>\n</g>\n<!-- 0&#45;&gt;1 -->\n<g id=\"edge1\" class=\"edge\">\n<title>0&#45;&gt;1</title>\n<path fill=\"none\" stroke=\"black\" d=\"M81.73,-362.15C76.38,-353.79 70.57,-343.09 65.99,-333.34\"/>\n<polygon fill=\"black\" stroke=\"black\" points=\"69.12,-331.77 61.88,-324.04 62.71,-334.6 69.12,-331.77\"/>\n</g>\n<!-- 4 -->\n<g id=\"node5\" class=\"node\">\n<title>4</title>\n<ellipse fill=\"none\" stroke=\"black\" cx=\"131\" cy=\"-306\" rx=\"27\" ry=\"18\"/>\n<text text-anchor=\"middle\" x=\"131\" y=\"-302.3\" font-family=\"Times,serif\" font-size=\"14.00\">4</text>\n</g>\n<!-- 0&#45;&gt;4 -->\n<g id=\"edge2\" class=\"edge\">\n<title>0&#45;&gt;4</title>\n<path fill=\"none\" stroke=\"black\" d=\"M97.84,-360.05C101.44,-351.22 106.89,-340.28 112.42,-330.63\"/>\n<polygon fill=\"black\" stroke=\"black\" points=\"115.53,-332.26 117.7,-321.89 109.54,-328.64 115.53,-332.26\"/>\n</g>\n<!-- 1&#45;&gt;0 -->\n<g id=\"edge3\" class=\"edge\">\n<title>1&#45;&gt;0</title>\n<path fill=\"none\" stroke=\"black\" d=\"M72.3,-321.89C77.66,-330.28 83.48,-341 88.06,-350.75\"/>\n<polygon fill=\"black\" stroke=\"black\" points=\"84.93,-352.32 92.16,-360.05 91.33,-349.49 84.93,-352.32\"/>\n</g>\n<!-- 5 -->\n<g id=\"node6\" class=\"node\">\n<title>5</title>\n<ellipse fill=\"none\" stroke=\"black\" cx=\"59\" cy=\"-234\" rx=\"27\" ry=\"18\"/>\n<text text-anchor=\"middle\" x=\"59\" y=\"-230.3\" font-family=\"Times,serif\" font-size=\"14.00\">5</text>\n</g>\n<!-- 1&#45;&gt;5 -->\n<g id=\"edge4\" class=\"edge\">\n<title>1&#45;&gt;5</title>\n<path fill=\"none\" stroke=\"black\" d=\"M53.16,-288.41C52.3,-280.51 52.05,-270.85 52.41,-261.94\"/>\n<polygon fill=\"black\" stroke=\"black\" points=\"55.9,-262.18 53.12,-251.96 48.92,-261.68 55.9,-262.18\"/>\n</g>\n<!-- 2 -->\n<g id=\"node3\" class=\"node\">\n<title>2</title>\n<ellipse fill=\"none\" stroke=\"black\" cx=\"27\" cy=\"-90\" rx=\"27\" ry=\"18\"/>\n<text text-anchor=\"middle\" x=\"27\" y=\"-86.3\" font-family=\"Times,serif\" font-size=\"14.00\">2</text>\n</g>\n<!-- 2&#45;&gt;5 -->\n<g id=\"edge5\" class=\"edge\">\n<title>2&#45;&gt;5</title>\n<path fill=\"none\" stroke=\"black\" d=\"M35.17,-107.31C43.25,-131.41 53.8,-176.81 58.34,-205.94\"/>\n<polygon fill=\"black\" stroke=\"black\" points=\"54.88,-206.45 59.72,-215.87 61.81,-205.48 54.88,-206.45\"/>\n</g>\n<!-- 6 -->\n<g id=\"node7\" class=\"node\">\n<title>6</title>\n<ellipse fill=\"none\" stroke=\"black\" cx=\"91\" cy=\"-162\" rx=\"27\" ry=\"18\"/>\n<text text-anchor=\"middle\" x=\"91\" y=\"-158.3\" font-family=\"Times,serif\" font-size=\"14.00\">6</text>\n</g>\n<!-- 2&#45;&gt;6 -->\n<g id=\"edge6\" class=\"edge\">\n<title>2&#45;&gt;6</title>\n<path fill=\"none\" stroke=\"black\" d=\"M44.62,-104.33C54.3,-113.5 66.01,-125.93 75.35,-136.82\"/>\n<polygon fill=\"black\" stroke=\"black\" points=\"72.87,-139.32 81.96,-144.76 78.25,-134.84 72.87,-139.32\"/>\n</g>\n<!-- 3 -->\n<g id=\"node4\" class=\"node\">\n<title>3</title>\n<ellipse fill=\"none\" stroke=\"black\" cx=\"99\" cy=\"-18\" rx=\"27\" ry=\"18\"/>\n<text text-anchor=\"middle\" x=\"99\" y=\"-14.3\" font-family=\"Times,serif\" font-size=\"14.00\">3</text>\n</g>\n<!-- 7 -->\n<g id=\"node8\" class=\"node\">\n<title>7</title>\n<ellipse fill=\"none\" stroke=\"black\" cx=\"99\" cy=\"-90\" rx=\"27\" ry=\"18\"/>\n<text text-anchor=\"middle\" x=\"99\" y=\"-86.3\" font-family=\"Times,serif\" font-size=\"14.00\">7</text>\n</g>\n<!-- 3&#45;&gt;7 -->\n<g id=\"edge7\" class=\"edge\">\n<title>3&#45;&gt;7</title>\n<path fill=\"none\" stroke=\"black\" d=\"M104.88,-35.96C105.71,-43.83 105.95,-53.37 105.58,-62.19\"/>\n<polygon fill=\"black\" stroke=\"black\" points=\"102.07,-62.18 104.84,-72.41 109.06,-62.69 102.07,-62.18\"/>\n</g>\n<!-- 4&#45;&gt;0 -->\n<g id=\"edge8\" class=\"edge\">\n<title>4&#45;&gt;0</title>\n<path fill=\"none\" stroke=\"black\" d=\"M128.12,-324.04C124.51,-332.87 119.07,-343.8 113.54,-353.43\"/>\n<polygon fill=\"black\" stroke=\"black\" points=\"110.45,-351.79 108.27,-362.15 116.44,-355.4 110.45,-351.79\"/>\n</g>\n<!-- 5&#45;&gt;1 -->\n<g id=\"edge9\" class=\"edge\">\n<title>5&#45;&gt;1</title>\n<path fill=\"none\" stroke=\"black\" d=\"M64.88,-251.96C65.71,-259.83 65.95,-269.37 65.58,-278.19\"/>\n<polygon fill=\"black\" stroke=\"black\" points=\"62.07,-278.18 64.84,-288.41 69.06,-278.69 62.07,-278.18\"/>\n</g>\n<!-- 5&#45;&gt;2 -->\n<g id=\"edge10\" class=\"edge\">\n<title>5&#45;&gt;2</title>\n<path fill=\"none\" stroke=\"black\" d=\"M50.84,-216.71C42.78,-192.7 32.28,-147.53 27.71,-118.37\"/>\n<polygon fill=\"black\" stroke=\"black\" points=\"31.17,-117.84 26.31,-108.43 24.24,-118.82 31.17,-117.84\"/>\n</g>\n<!-- 5&#45;&gt;6 -->\n<g id=\"edge11\" class=\"edge\">\n<title>5&#45;&gt;6</title>\n<path fill=\"none\" stroke=\"black\" d=\"M60.99,-215.7C64.05,-207.07 68.7,-196.5 73.53,-187.1\"/>\n<polygon fill=\"black\" stroke=\"black\" points=\"76.67,-188.66 78.37,-178.2 70.52,-185.32 76.67,-188.66\"/>\n</g>\n<!-- 6&#45;&gt;2 -->\n<g id=\"edge12\" class=\"edge\">\n<title>6&#45;&gt;2</title>\n<path fill=\"none\" stroke=\"black\" d=\"M73.55,-147.83C63.81,-138.62 51.96,-126.04 42.55,-115.06\"/>\n<polygon fill=\"black\" stroke=\"black\" points=\"44.98,-112.51 35.9,-107.06 39.6,-116.98 44.98,-112.51\"/>\n</g>\n<!-- 6&#45;&gt;5 -->\n<g id=\"edge13\" class=\"edge\">\n<title>6&#45;&gt;5</title>\n<path fill=\"none\" stroke=\"black\" d=\"M89.07,-180.13C86.02,-188.77 81.34,-199.4 76.49,-208.86\"/>\n<polygon fill=\"black\" stroke=\"black\" points=\"73.32,-207.35 71.62,-217.81 79.47,-210.7 73.32,-207.35\"/>\n</g>\n<!-- 6&#45;&gt;7 -->\n<g id=\"edge14\" class=\"edge\">\n<title>6&#45;&gt;7</title>\n<path fill=\"none\" stroke=\"black\" d=\"M87.06,-144.05C87.12,-136.03 88.01,-126.26 89.43,-117.3\"/>\n<polygon fill=\"black\" stroke=\"black\" points=\"92.9,-117.78 91.33,-107.31 86.03,-116.48 92.9,-117.78\"/>\n</g>\n<!-- 7&#45;&gt;3 -->\n<g id=\"edge15\" class=\"edge\">\n<title>7&#45;&gt;3</title>\n<path fill=\"none\" stroke=\"black\" d=\"M93.16,-72.41C92.3,-64.51 92.05,-54.85 92.41,-45.94\"/>\n<polygon fill=\"black\" stroke=\"black\" points=\"95.9,-46.18 93.12,-35.96 88.92,-45.68 95.9,-46.18\"/>\n</g>\n<!-- 7&#45;&gt;6 -->\n<g id=\"edge16\" class=\"edge\">\n<title>7&#45;&gt;6</title>\n<path fill=\"none\" stroke=\"black\" d=\"M102.94,-107.96C102.88,-115.91 102,-125.58 100.6,-134.48\"/>\n<polygon fill=\"black\" stroke=\"black\" points=\"97.14,-133.94 98.74,-144.41 104.02,-135.23 97.14,-133.94\"/>\n</g>\n</g>\n</svg>\n",
            "text/plain": [
              "<graphviz.graphs.Digraph at 0x7fb1b4237910>"
            ]
          },
          "metadata": {},
          "execution_count": 78
        }
      ]
    },
    {
      "cell_type": "markdown",
      "source": [
        "-----------"
      ],
      "metadata": {
        "id": "4jH62pDn05n_"
      }
    },
    {
      "cell_type": "markdown",
      "source": [
        "with adj matrix"
      ],
      "metadata": {
        "id": "6EUNjWzgk1MC"
      }
    },
    {
      "cell_type": "code",
      "source": [
        "def bfs_mat(matrix,src):\n",
        "     q = deque()\n",
        "     vis = set()\n",
        "     q.append(src)\n",
        "     while (len(q)>0):\n",
        "         cur = q.popleft()\n",
        "         if  cur not in vis:\n",
        "            vis.add(cur)\n",
        "            print(\"at node :\",cur)\n",
        "            tmp = matrix[cur]\n",
        "            for child in range(len(tmp)):\n",
        "                  if matrix[cur][child] ==1 and child not in vis:\n",
        "                       q.append(child)                 \n",
        "bfs_mat(adj_matrix1,2)\n",
        "print(\"\\n\")"
      ],
      "metadata": {
        "colab": {
          "base_uri": "https://localhost:8080/"
        },
        "id": "oAHudY0gk3F6",
        "outputId": "45a54d08-ba71-4c1e-9e16-9f7a0c2bdb8a"
      },
      "execution_count": 55,
      "outputs": [
        {
          "output_type": "stream",
          "name": "stdout",
          "text": [
            "at node : 2\n",
            "at node : 5\n",
            "at node : 6\n",
            "at node : 1\n",
            "at node : 7\n",
            "at node : 0\n",
            "at node : 3\n",
            "at node : 4\n",
            "\n",
            "\n"
          ]
        }
      ]
    },
    {
      "cell_type": "markdown",
      "source": [
        "---"
      ],
      "metadata": {
        "id": "4wpDW6CoqHJL"
      }
    },
    {
      "cell_type": "markdown",
      "source": [
        "--------"
      ],
      "metadata": {
        "id": "f5MZ8UcHqHlP"
      }
    },
    {
      "cell_type": "markdown",
      "source": [
        "## Depth first Traversal\n"
      ],
      "metadata": {
        "id": "PfL0vcX8qIa7"
      }
    },
    {
      "cell_type": "markdown",
      "source": [
        "with adj list\n"
      ],
      "metadata": {
        "id": "LUMSUHcWqilq"
      }
    },
    {
      "cell_type": "code",
      "source": [
        "graph1_vertecies = set(list(range(8))) # list(range(8)) a list from 0 to 7 -- then casting it to set \n",
        "graph1_adj = {\n",
        "   0: [1,4],\n",
        "   1: [0,5],\n",
        "   2: [5,6],\n",
        "   3: [7],\n",
        "   4: [0],\n",
        "   5: [1,2,6],\n",
        "   6: [2,5,7],\n",
        "   7: [3,6]\n",
        "}\n",
        "\n",
        "\n",
        "vis = set()\n",
        "def dfs_adj(graph,node):\n",
        "       if  node not in vis :\n",
        "             vis.add(node)\n",
        "             print(\"at node :\",node)\n",
        "             childs = graph[node]\n",
        "             for child in childs :\n",
        "                   dfs_adj(graph, child)    \n",
        "\n",
        "                     \n",
        "\n",
        "for node in graph1_vertecies:       # Loop through each node in the graph vertices\n",
        "  if node not in vis:    # Check if the node has not been visited before\n",
        "    print(\"new DFS search\")  # Print a message indicating the start of a new DFS search\n",
        "    dfs_adj(graph1_adj,node)  \n",
        "\n",
        "draw_graph(graph1_vertecies, graph1_adj, True)\n",
        "#\n",
        "#for node in graph1_vertecies:       # Loop through each node in the graph vertices\n",
        "#  if node not in vis:    # Check if the node has not been visited before\n",
        "#    print(\"new DFS search\")  # Print a message indicating the start of a new DFS search\n",
        "#    dfs_adj(node)          \n",
        "#    "
      ],
      "metadata": {
        "colab": {
          "base_uri": "https://localhost:8080/",
          "height": 716
        },
        "id": "-rc9eKrEqkYW",
        "outputId": "c10c9858-6cb4-48a4-a618-de3eaee76d54"
      },
      "execution_count": 79,
      "outputs": [
        {
          "output_type": "stream",
          "name": "stdout",
          "text": [
            "new DFS search\n",
            "at node : 0\n",
            "at node : 1\n",
            "at node : 5\n",
            "at node : 2\n",
            "at node : 6\n",
            "at node : 7\n",
            "at node : 3\n",
            "at node : 4\n"
          ]
        },
        {
          "output_type": "execute_result",
          "data": {
            "image/svg+xml": "<?xml version=\"1.0\" encoding=\"UTF-8\" standalone=\"no\"?>\n<!DOCTYPE svg PUBLIC \"-//W3C//DTD SVG 1.1//EN\"\n \"http://www.w3.org/Graphics/SVG/1.1/DTD/svg11.dtd\">\n<!-- Generated by graphviz version 2.43.0 (0)\n -->\n<!-- Title: %3 Pages: 1 -->\n<svg width=\"166pt\" height=\"404pt\"\n viewBox=\"0.00 0.00 166.00 404.00\" xmlns=\"http://www.w3.org/2000/svg\" xmlns:xlink=\"http://www.w3.org/1999/xlink\">\n<g id=\"graph0\" class=\"graph\" transform=\"scale(1 1) rotate(0) translate(4 400)\">\n<title>%3</title>\n<polygon fill=\"white\" stroke=\"transparent\" points=\"-4,4 -4,-400 162,-400 162,4 -4,4\"/>\n<!-- 0 -->\n<g id=\"node1\" class=\"node\">\n<title>0</title>\n<ellipse fill=\"none\" stroke=\"black\" cx=\"95\" cy=\"-378\" rx=\"27\" ry=\"18\"/>\n<text text-anchor=\"middle\" x=\"95\" y=\"-374.3\" font-family=\"Times,serif\" font-size=\"14.00\">0</text>\n</g>\n<!-- 1 -->\n<g id=\"node2\" class=\"node\">\n<title>1</title>\n<ellipse fill=\"none\" stroke=\"black\" cx=\"59\" cy=\"-306\" rx=\"27\" ry=\"18\"/>\n<text text-anchor=\"middle\" x=\"59\" y=\"-302.3\" font-family=\"Times,serif\" font-size=\"14.00\">1</text>\n</g>\n<!-- 0&#45;&gt;1 -->\n<g id=\"edge1\" class=\"edge\">\n<title>0&#45;&gt;1</title>\n<path fill=\"none\" stroke=\"black\" d=\"M81.73,-362.15C76.38,-353.79 70.57,-343.09 65.99,-333.34\"/>\n<polygon fill=\"black\" stroke=\"black\" points=\"69.12,-331.77 61.88,-324.04 62.71,-334.6 69.12,-331.77\"/>\n</g>\n<!-- 4 -->\n<g id=\"node5\" class=\"node\">\n<title>4</title>\n<ellipse fill=\"none\" stroke=\"black\" cx=\"131\" cy=\"-306\" rx=\"27\" ry=\"18\"/>\n<text text-anchor=\"middle\" x=\"131\" y=\"-302.3\" font-family=\"Times,serif\" font-size=\"14.00\">4</text>\n</g>\n<!-- 0&#45;&gt;4 -->\n<g id=\"edge2\" class=\"edge\">\n<title>0&#45;&gt;4</title>\n<path fill=\"none\" stroke=\"black\" d=\"M97.84,-360.05C101.44,-351.22 106.89,-340.28 112.42,-330.63\"/>\n<polygon fill=\"black\" stroke=\"black\" points=\"115.53,-332.26 117.7,-321.89 109.54,-328.64 115.53,-332.26\"/>\n</g>\n<!-- 1&#45;&gt;0 -->\n<g id=\"edge3\" class=\"edge\">\n<title>1&#45;&gt;0</title>\n<path fill=\"none\" stroke=\"black\" d=\"M72.3,-321.89C77.66,-330.28 83.48,-341 88.06,-350.75\"/>\n<polygon fill=\"black\" stroke=\"black\" points=\"84.93,-352.32 92.16,-360.05 91.33,-349.49 84.93,-352.32\"/>\n</g>\n<!-- 5 -->\n<g id=\"node6\" class=\"node\">\n<title>5</title>\n<ellipse fill=\"none\" stroke=\"black\" cx=\"59\" cy=\"-234\" rx=\"27\" ry=\"18\"/>\n<text text-anchor=\"middle\" x=\"59\" y=\"-230.3\" font-family=\"Times,serif\" font-size=\"14.00\">5</text>\n</g>\n<!-- 1&#45;&gt;5 -->\n<g id=\"edge4\" class=\"edge\">\n<title>1&#45;&gt;5</title>\n<path fill=\"none\" stroke=\"black\" d=\"M53.16,-288.41C52.3,-280.51 52.05,-270.85 52.41,-261.94\"/>\n<polygon fill=\"black\" stroke=\"black\" points=\"55.9,-262.18 53.12,-251.96 48.92,-261.68 55.9,-262.18\"/>\n</g>\n<!-- 2 -->\n<g id=\"node3\" class=\"node\">\n<title>2</title>\n<ellipse fill=\"none\" stroke=\"black\" cx=\"27\" cy=\"-90\" rx=\"27\" ry=\"18\"/>\n<text text-anchor=\"middle\" x=\"27\" y=\"-86.3\" font-family=\"Times,serif\" font-size=\"14.00\">2</text>\n</g>\n<!-- 2&#45;&gt;5 -->\n<g id=\"edge5\" class=\"edge\">\n<title>2&#45;&gt;5</title>\n<path fill=\"none\" stroke=\"black\" d=\"M35.17,-107.31C43.25,-131.41 53.8,-176.81 58.34,-205.94\"/>\n<polygon fill=\"black\" stroke=\"black\" points=\"54.88,-206.45 59.72,-215.87 61.81,-205.48 54.88,-206.45\"/>\n</g>\n<!-- 6 -->\n<g id=\"node7\" class=\"node\">\n<title>6</title>\n<ellipse fill=\"none\" stroke=\"black\" cx=\"91\" cy=\"-162\" rx=\"27\" ry=\"18\"/>\n<text text-anchor=\"middle\" x=\"91\" y=\"-158.3\" font-family=\"Times,serif\" font-size=\"14.00\">6</text>\n</g>\n<!-- 2&#45;&gt;6 -->\n<g id=\"edge6\" class=\"edge\">\n<title>2&#45;&gt;6</title>\n<path fill=\"none\" stroke=\"black\" d=\"M44.62,-104.33C54.3,-113.5 66.01,-125.93 75.35,-136.82\"/>\n<polygon fill=\"black\" stroke=\"black\" points=\"72.87,-139.32 81.96,-144.76 78.25,-134.84 72.87,-139.32\"/>\n</g>\n<!-- 3 -->\n<g id=\"node4\" class=\"node\">\n<title>3</title>\n<ellipse fill=\"none\" stroke=\"black\" cx=\"99\" cy=\"-18\" rx=\"27\" ry=\"18\"/>\n<text text-anchor=\"middle\" x=\"99\" y=\"-14.3\" font-family=\"Times,serif\" font-size=\"14.00\">3</text>\n</g>\n<!-- 7 -->\n<g id=\"node8\" class=\"node\">\n<title>7</title>\n<ellipse fill=\"none\" stroke=\"black\" cx=\"99\" cy=\"-90\" rx=\"27\" ry=\"18\"/>\n<text text-anchor=\"middle\" x=\"99\" y=\"-86.3\" font-family=\"Times,serif\" font-size=\"14.00\">7</text>\n</g>\n<!-- 3&#45;&gt;7 -->\n<g id=\"edge7\" class=\"edge\">\n<title>3&#45;&gt;7</title>\n<path fill=\"none\" stroke=\"black\" d=\"M104.88,-35.96C105.71,-43.83 105.95,-53.37 105.58,-62.19\"/>\n<polygon fill=\"black\" stroke=\"black\" points=\"102.07,-62.18 104.84,-72.41 109.06,-62.69 102.07,-62.18\"/>\n</g>\n<!-- 4&#45;&gt;0 -->\n<g id=\"edge8\" class=\"edge\">\n<title>4&#45;&gt;0</title>\n<path fill=\"none\" stroke=\"black\" d=\"M128.12,-324.04C124.51,-332.87 119.07,-343.8 113.54,-353.43\"/>\n<polygon fill=\"black\" stroke=\"black\" points=\"110.45,-351.79 108.27,-362.15 116.44,-355.4 110.45,-351.79\"/>\n</g>\n<!-- 5&#45;&gt;1 -->\n<g id=\"edge9\" class=\"edge\">\n<title>5&#45;&gt;1</title>\n<path fill=\"none\" stroke=\"black\" d=\"M64.88,-251.96C65.71,-259.83 65.95,-269.37 65.58,-278.19\"/>\n<polygon fill=\"black\" stroke=\"black\" points=\"62.07,-278.18 64.84,-288.41 69.06,-278.69 62.07,-278.18\"/>\n</g>\n<!-- 5&#45;&gt;2 -->\n<g id=\"edge10\" class=\"edge\">\n<title>5&#45;&gt;2</title>\n<path fill=\"none\" stroke=\"black\" d=\"M50.84,-216.71C42.78,-192.7 32.28,-147.53 27.71,-118.37\"/>\n<polygon fill=\"black\" stroke=\"black\" points=\"31.17,-117.84 26.31,-108.43 24.24,-118.82 31.17,-117.84\"/>\n</g>\n<!-- 5&#45;&gt;6 -->\n<g id=\"edge11\" class=\"edge\">\n<title>5&#45;&gt;6</title>\n<path fill=\"none\" stroke=\"black\" d=\"M60.99,-215.7C64.05,-207.07 68.7,-196.5 73.53,-187.1\"/>\n<polygon fill=\"black\" stroke=\"black\" points=\"76.67,-188.66 78.37,-178.2 70.52,-185.32 76.67,-188.66\"/>\n</g>\n<!-- 6&#45;&gt;2 -->\n<g id=\"edge12\" class=\"edge\">\n<title>6&#45;&gt;2</title>\n<path fill=\"none\" stroke=\"black\" d=\"M73.55,-147.83C63.81,-138.62 51.96,-126.04 42.55,-115.06\"/>\n<polygon fill=\"black\" stroke=\"black\" points=\"44.98,-112.51 35.9,-107.06 39.6,-116.98 44.98,-112.51\"/>\n</g>\n<!-- 6&#45;&gt;5 -->\n<g id=\"edge13\" class=\"edge\">\n<title>6&#45;&gt;5</title>\n<path fill=\"none\" stroke=\"black\" d=\"M89.07,-180.13C86.02,-188.77 81.34,-199.4 76.49,-208.86\"/>\n<polygon fill=\"black\" stroke=\"black\" points=\"73.32,-207.35 71.62,-217.81 79.47,-210.7 73.32,-207.35\"/>\n</g>\n<!-- 6&#45;&gt;7 -->\n<g id=\"edge14\" class=\"edge\">\n<title>6&#45;&gt;7</title>\n<path fill=\"none\" stroke=\"black\" d=\"M87.06,-144.05C87.12,-136.03 88.01,-126.26 89.43,-117.3\"/>\n<polygon fill=\"black\" stroke=\"black\" points=\"92.9,-117.78 91.33,-107.31 86.03,-116.48 92.9,-117.78\"/>\n</g>\n<!-- 7&#45;&gt;3 -->\n<g id=\"edge15\" class=\"edge\">\n<title>7&#45;&gt;3</title>\n<path fill=\"none\" stroke=\"black\" d=\"M93.16,-72.41C92.3,-64.51 92.05,-54.85 92.41,-45.94\"/>\n<polygon fill=\"black\" stroke=\"black\" points=\"95.9,-46.18 93.12,-35.96 88.92,-45.68 95.9,-46.18\"/>\n</g>\n<!-- 7&#45;&gt;6 -->\n<g id=\"edge16\" class=\"edge\">\n<title>7&#45;&gt;6</title>\n<path fill=\"none\" stroke=\"black\" d=\"M102.94,-107.96C102.88,-115.91 102,-125.58 100.6,-134.48\"/>\n<polygon fill=\"black\" stroke=\"black\" points=\"97.14,-133.94 98.74,-144.41 104.02,-135.23 97.14,-133.94\"/>\n</g>\n</g>\n</svg>\n",
            "text/plain": [
              "<graphviz.graphs.Digraph at 0x7fb1b4237940>"
            ]
          },
          "metadata": {},
          "execution_count": 79
        }
      ]
    },
    {
      "cell_type": "markdown",
      "source": [
        "-"
      ],
      "metadata": {
        "id": "6TrCX8b-03ec"
      }
    },
    {
      "cell_type": "markdown",
      "source": [
        "with adj matrix"
      ],
      "metadata": {
        "id": "qZvLzo5Jqkuz"
      }
    },
    {
      "cell_type": "code",
      "source": [
        "import numpy as np\n",
        "# get the number of vertices in the graph\n",
        "num_vertices = len(graph1_adj)\n",
        "# initialize a matrix of zeros\n",
        "adj_matrix = np.zeros((num_vertices, num_vertices))\n",
        "# iterate over each vertex and its neighbors to fill the matrix\n",
        "for vertex, neighbors in graph1_adj.items():\n",
        "    for neighbor in neighbors:\n",
        "        adj_matrix[vertex][neighbor] = 1\n",
        "\n",
        "\n",
        "\n",
        "vis = set()            # Create an empty set to store the visited nodes\n",
        "\n",
        "def dfs_mat(node , adj_matrix):             \n",
        "        if node not in vis:  # Check if the node has not been visited before\n",
        "            vis.add(node)   # Add the node to the visited set\n",
        "            print(f\"visit before neibours: {node}\")  # Print the visited node\n",
        "            neighbors = adj_matrix[node]  # Get the neighbors of the current node from the graph edges\n",
        "            for neighbor_idx in range(len(neighbors)): \n",
        "              if( (adj_matrix[node][neighbor_idx]==1) and (neighbor_idx not in vis) ):  \n",
        "                    dfs_mat(neighbor_idx,adj_matrix)  # Call the DFS function recursively with the current neighbor as input\n",
        "                      \n",
        "\n",
        "for node in graph1_vertecies:       # Loop through each node in the graph vertices\n",
        "  if node not in vis:    # Check if the node has not been visited before\n",
        "    print(\"new DFS search\")  # Print a message indicating the start of a new DFS search\n",
        "    dfs_mat(node,adj_matrix)  "
      ],
      "metadata": {
        "colab": {
          "base_uri": "https://localhost:8080/"
        },
        "id": "Q5sNvWLuql_S",
        "outputId": "8d3a1909-5e06-4c74-db1b-719a14e34487"
      },
      "execution_count": 73,
      "outputs": [
        {
          "output_type": "stream",
          "name": "stdout",
          "text": [
            "new DFS search\n",
            "visit before neibours: 0\n",
            "visit before neibours: 1\n",
            "visit before neibours: 5\n",
            "visit before neibours: 2\n",
            "visit before neibours: 6\n",
            "visit before neibours: 7\n",
            "visit before neibours: 3\n",
            "visit before neibours: 4\n"
          ]
        }
      ]
    },
    {
      "cell_type": "markdown",
      "source": [
        "----"
      ],
      "metadata": {
        "id": "bTYD7IRL07RL"
      }
    },
    {
      "cell_type": "markdown",
      "source": [
        "-----------"
      ],
      "metadata": {
        "id": "zNjoVZ1H07xz"
      }
    },
    {
      "cell_type": "markdown",
      "source": [
        "## $\\text  {Topological sort} $"
      ],
      "metadata": {
        "id": "p_xL9lOu08aH"
      }
    },
    {
      "cell_type": "code",
      "source": [
        "graph3_vertecies = set(list(range(8)))\n",
        "graph3_adj = {\n",
        "    0: [1, 4],  \n",
        "    1: [5],       \n",
        "    2: [5, 6],  \n",
        "    3: [7],      \n",
        "    4: [],       \n",
        "    5: [6],      \n",
        "    6: [7],      \n",
        "    7: []        \n",
        "}\n",
        "\n",
        "draw_graph(graph3_vertecies, graph3_adj, True)"
      ],
      "metadata": {
        "colab": {
          "base_uri": "https://localhost:8080/",
          "height": 464
        },
        "id": "_M-tAx691AKU",
        "outputId": "b0582f3c-0cf8-48b8-92fb-d8342f4179b5"
      },
      "execution_count": 91,
      "outputs": [
        {
          "output_type": "execute_result",
          "data": {
            "image/svg+xml": "<?xml version=\"1.0\" encoding=\"UTF-8\" standalone=\"no\"?>\n<!DOCTYPE svg PUBLIC \"-//W3C//DTD SVG 1.1//EN\"\n \"http://www.w3.org/Graphics/SVG/1.1/DTD/svg11.dtd\">\n<!-- Generated by graphviz version 2.43.0 (0)\n -->\n<!-- Title: %3 Pages: 1 -->\n<svg width=\"250pt\" height=\"332pt\"\n viewBox=\"0.00 0.00 250.00 332.00\" xmlns=\"http://www.w3.org/2000/svg\" xmlns:xlink=\"http://www.w3.org/1999/xlink\">\n<g id=\"graph0\" class=\"graph\" transform=\"scale(1 1) rotate(0) translate(4 328)\">\n<title>%3</title>\n<polygon fill=\"white\" stroke=\"transparent\" points=\"-4,4 -4,-328 246,-328 246,4 -4,4\"/>\n<!-- 0 -->\n<g id=\"node1\" class=\"node\">\n<title>0</title>\n<ellipse fill=\"none\" stroke=\"black\" cx=\"63\" cy=\"-306\" rx=\"27\" ry=\"18\"/>\n<text text-anchor=\"middle\" x=\"63\" y=\"-302.3\" font-family=\"Times,serif\" font-size=\"14.00\">0</text>\n</g>\n<!-- 1 -->\n<g id=\"node2\" class=\"node\">\n<title>1</title>\n<ellipse fill=\"none\" stroke=\"black\" cx=\"27\" cy=\"-234\" rx=\"27\" ry=\"18\"/>\n<text text-anchor=\"middle\" x=\"27\" y=\"-230.3\" font-family=\"Times,serif\" font-size=\"14.00\">1</text>\n</g>\n<!-- 0&#45;&gt;1 -->\n<g id=\"edge1\" class=\"edge\">\n<title>0&#45;&gt;1</title>\n<path fill=\"none\" stroke=\"black\" d=\"M54.65,-288.76C50.29,-280.28 44.85,-269.71 39.96,-260.2\"/>\n<polygon fill=\"black\" stroke=\"black\" points=\"42.99,-258.44 35.3,-251.15 36.77,-261.64 42.99,-258.44\"/>\n</g>\n<!-- 4 -->\n<g id=\"node5\" class=\"node\">\n<title>4</title>\n<ellipse fill=\"none\" stroke=\"black\" cx=\"99\" cy=\"-234\" rx=\"27\" ry=\"18\"/>\n<text text-anchor=\"middle\" x=\"99\" y=\"-230.3\" font-family=\"Times,serif\" font-size=\"14.00\">4</text>\n</g>\n<!-- 0&#45;&gt;4 -->\n<g id=\"edge2\" class=\"edge\">\n<title>0&#45;&gt;4</title>\n<path fill=\"none\" stroke=\"black\" d=\"M71.35,-288.76C75.71,-280.28 81.15,-269.71 86.04,-260.2\"/>\n<polygon fill=\"black\" stroke=\"black\" points=\"89.23,-261.64 90.7,-251.15 83.01,-258.44 89.23,-261.64\"/>\n</g>\n<!-- 5 -->\n<g id=\"node6\" class=\"node\">\n<title>5</title>\n<ellipse fill=\"none\" stroke=\"black\" cx=\"116\" cy=\"-162\" rx=\"27\" ry=\"18\"/>\n<text text-anchor=\"middle\" x=\"116\" y=\"-158.3\" font-family=\"Times,serif\" font-size=\"14.00\">5</text>\n</g>\n<!-- 1&#45;&gt;5 -->\n<g id=\"edge3\" class=\"edge\">\n<title>1&#45;&gt;5</title>\n<path fill=\"none\" stroke=\"black\" d=\"M43.74,-219.83C57.08,-209.34 75.96,-194.49 91.08,-182.6\"/>\n<polygon fill=\"black\" stroke=\"black\" points=\"93.34,-185.28 99.03,-176.35 89.01,-179.78 93.34,-185.28\"/>\n</g>\n<!-- 2 -->\n<g id=\"node3\" class=\"node\">\n<title>2</title>\n<ellipse fill=\"none\" stroke=\"black\" cx=\"171\" cy=\"-234\" rx=\"27\" ry=\"18\"/>\n<text text-anchor=\"middle\" x=\"171\" y=\"-230.3\" font-family=\"Times,serif\" font-size=\"14.00\">2</text>\n</g>\n<!-- 2&#45;&gt;5 -->\n<g id=\"edge4\" class=\"edge\">\n<title>2&#45;&gt;5</title>\n<path fill=\"none\" stroke=\"black\" d=\"M159.07,-217.81C151.79,-208.55 142.34,-196.52 134.15,-186.09\"/>\n<polygon fill=\"black\" stroke=\"black\" points=\"136.84,-183.86 127.91,-178.16 131.34,-188.18 136.84,-183.86\"/>\n</g>\n<!-- 6 -->\n<g id=\"node7\" class=\"node\">\n<title>6</title>\n<ellipse fill=\"none\" stroke=\"black\" cx=\"143\" cy=\"-90\" rx=\"27\" ry=\"18\"/>\n<text text-anchor=\"middle\" x=\"143\" y=\"-86.3\" font-family=\"Times,serif\" font-size=\"14.00\">6</text>\n</g>\n<!-- 2&#45;&gt;6 -->\n<g id=\"edge5\" class=\"edge\">\n<title>2&#45;&gt;6</title>\n<path fill=\"none\" stroke=\"black\" d=\"M167.62,-215.87C162.83,-191.56 154.01,-146.82 148.33,-118.01\"/>\n<polygon fill=\"black\" stroke=\"black\" points=\"151.76,-117.32 146.39,-108.19 144.89,-118.68 151.76,-117.32\"/>\n</g>\n<!-- 3 -->\n<g id=\"node4\" class=\"node\">\n<title>3</title>\n<ellipse fill=\"none\" stroke=\"black\" cx=\"215\" cy=\"-90\" rx=\"27\" ry=\"18\"/>\n<text text-anchor=\"middle\" x=\"215\" y=\"-86.3\" font-family=\"Times,serif\" font-size=\"14.00\">3</text>\n</g>\n<!-- 7 -->\n<g id=\"node8\" class=\"node\">\n<title>7</title>\n<ellipse fill=\"none\" stroke=\"black\" cx=\"179\" cy=\"-18\" rx=\"27\" ry=\"18\"/>\n<text text-anchor=\"middle\" x=\"179\" y=\"-14.3\" font-family=\"Times,serif\" font-size=\"14.00\">7</text>\n</g>\n<!-- 3&#45;&gt;7 -->\n<g id=\"edge6\" class=\"edge\">\n<title>3&#45;&gt;7</title>\n<path fill=\"none\" stroke=\"black\" d=\"M206.65,-72.76C202.29,-64.28 196.85,-53.71 191.96,-44.2\"/>\n<polygon fill=\"black\" stroke=\"black\" points=\"194.99,-42.44 187.3,-35.15 188.77,-45.64 194.99,-42.44\"/>\n</g>\n<!-- 5&#45;&gt;6 -->\n<g id=\"edge7\" class=\"edge\">\n<title>5&#45;&gt;6</title>\n<path fill=\"none\" stroke=\"black\" d=\"M122.4,-144.41C125.51,-136.34 129.33,-126.43 132.83,-117.35\"/>\n<polygon fill=\"black\" stroke=\"black\" points=\"136.13,-118.55 136.46,-107.96 129.6,-116.03 136.13,-118.55\"/>\n</g>\n<!-- 6&#45;&gt;7 -->\n<g id=\"edge8\" class=\"edge\">\n<title>6&#45;&gt;7</title>\n<path fill=\"none\" stroke=\"black\" d=\"M151.35,-72.76C155.71,-64.28 161.15,-53.71 166.04,-44.2\"/>\n<polygon fill=\"black\" stroke=\"black\" points=\"169.23,-45.64 170.7,-35.15 163.01,-42.44 169.23,-45.64\"/>\n</g>\n</g>\n</svg>\n",
            "text/plain": [
              "<graphviz.graphs.Digraph at 0x7fb1b4236dd0>"
            ]
          },
          "metadata": {},
          "execution_count": 91
        }
      ]
    },
    {
      "cell_type": "code",
      "source": [
        "vis = set()\n",
        "arr = []\n",
        "\n",
        "def dfs_adj(graph,node):\n",
        "       if  node not in vis :\n",
        "             vis.add(node)\n",
        "             childs = graph[node]\n",
        "             for child in childs :\n",
        "                   dfs_adj(graph, child)    \n",
        "             arr.append(node) \n",
        "             return arr         \n",
        "\n",
        "def topo_sort(graph):\n",
        "     for  node in graph3_vertecies:\n",
        "           if node not in vis:\n",
        "              res = dfs_adj(graph,node)\n",
        "      \n",
        "\n",
        "# apply topo sort form source node 0 \n",
        "\n",
        "topo_sort(graph3_adj)      \n",
        "print(f\" reversed top sort order : {arr}\")\n",
        "arr =arr[::-1]\n",
        "print(f\" linear top sort order : {arr}\")"
      ],
      "metadata": {
        "colab": {
          "base_uri": "https://localhost:8080/"
        },
        "id": "DqGoahEC1KwG",
        "outputId": "b612937c-58d6-4a87-9b4c-ba8654edaf9a"
      },
      "execution_count": 95,
      "outputs": [
        {
          "output_type": "stream",
          "name": "stdout",
          "text": [
            " reversed top sort order : [7, 6, 5, 1, 4, 0, 2, 3]\n",
            " linear top sort order : [3, 2, 0, 4, 1, 5, 6, 7]\n"
          ]
        }
      ]
    }
  ]
}